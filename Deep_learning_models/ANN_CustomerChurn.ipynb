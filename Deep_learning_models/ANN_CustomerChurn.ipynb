{
  "nbformat": 4,
  "nbformat_minor": 0,
  "metadata": {
    "colab": {
      "name": "ANN_CustomerChurn.ipynb",
      "provenance": []
    },
    "kernelspec": {
      "name": "python3",
      "display_name": "Python 3"
    },
    "language_info": {
      "name": "python"
    },
    "accelerator": "GPU",
    "gpuClass": "standard"
  },
  "cells": [
    {
      "cell_type": "markdown",
      "source": [
        "![Open In Colab](https://colab.research.google.com/assets/colab-badge.svg)\n",
        "\n",
        "# Customer Churn Prediction Using Artificial Neural Network (ANN)\n",
        "Kaggle Dataset: [dataset](https://www.kaggle.com/datasets/blastchar/telco-customer-churn)<br> \n",
        "Guided video: [codebasics](https://www.youtube.com/watch?v=MSBY28IJ47U)<br>\n",
        "Customer churn prediction is to measure why customers are leaving a business. In this tutorial we will be looking at customer churn in telecom business. We will build a deep learning model to predict the churn and use precision,recall, f1-score to measure performance of our model\n",
        "\n",
        "\n"
      ],
      "metadata": {
        "id": "7q8dQJbTsvVT"
      }
    },
    {
      "cell_type": "code",
      "source": [
        "# uploading dataset file\n",
        "from google.colab import files\n",
        "uploaded = files.upload()"
      ],
      "metadata": {
        "colab": {
          "base_uri": "https://localhost:8080/",
          "height": 73,
          "resources": {
            "http://localhost:8080/nbextensions/google.colab/files.js": {
              "data": "Ly8gQ29weXJpZ2h0IDIwMTcgR29vZ2xlIExMQwovLwovLyBMaWNlbnNlZCB1bmRlciB0aGUgQXBhY2hlIExpY2Vuc2UsIFZlcnNpb24gMi4wICh0aGUgIkxpY2Vuc2UiKTsKLy8geW91IG1heSBub3QgdXNlIHRoaXMgZmlsZSBleGNlcHQgaW4gY29tcGxpYW5jZSB3aXRoIHRoZSBMaWNlbnNlLgovLyBZb3UgbWF5IG9idGFpbiBhIGNvcHkgb2YgdGhlIExpY2Vuc2UgYXQKLy8KLy8gICAgICBodHRwOi8vd3d3LmFwYWNoZS5vcmcvbGljZW5zZXMvTElDRU5TRS0yLjAKLy8KLy8gVW5sZXNzIHJlcXVpcmVkIGJ5IGFwcGxpY2FibGUgbGF3IG9yIGFncmVlZCB0byBpbiB3cml0aW5nLCBzb2Z0d2FyZQovLyBkaXN0cmlidXRlZCB1bmRlciB0aGUgTGljZW5zZSBpcyBkaXN0cmlidXRlZCBvbiBhbiAiQVMgSVMiIEJBU0lTLAovLyBXSVRIT1VUIFdBUlJBTlRJRVMgT1IgQ09ORElUSU9OUyBPRiBBTlkgS0lORCwgZWl0aGVyIGV4cHJlc3Mgb3IgaW1wbGllZC4KLy8gU2VlIHRoZSBMaWNlbnNlIGZvciB0aGUgc3BlY2lmaWMgbGFuZ3VhZ2UgZ292ZXJuaW5nIHBlcm1pc3Npb25zIGFuZAovLyBsaW1pdGF0aW9ucyB1bmRlciB0aGUgTGljZW5zZS4KCi8qKgogKiBAZmlsZW92ZXJ2aWV3IEhlbHBlcnMgZm9yIGdvb2dsZS5jb2xhYiBQeXRob24gbW9kdWxlLgogKi8KKGZ1bmN0aW9uKHNjb3BlKSB7CmZ1bmN0aW9uIHNwYW4odGV4dCwgc3R5bGVBdHRyaWJ1dGVzID0ge30pIHsKICBjb25zdCBlbGVtZW50ID0gZG9jdW1lbnQuY3JlYXRlRWxlbWVudCgnc3BhbicpOwogIGVsZW1lbnQudGV4dENvbnRlbnQgPSB0ZXh0OwogIGZvciAoY29uc3Qga2V5IG9mIE9iamVjdC5rZXlzKHN0eWxlQXR0cmlidXRlcykpIHsKICAgIGVsZW1lbnQuc3R5bGVba2V5XSA9IHN0eWxlQXR0cmlidXRlc1trZXldOwogIH0KICByZXR1cm4gZWxlbWVudDsKfQoKLy8gTWF4IG51bWJlciBvZiBieXRlcyB3aGljaCB3aWxsIGJlIHVwbG9hZGVkIGF0IGEgdGltZS4KY29uc3QgTUFYX1BBWUxPQURfU0laRSA9IDEwMCAqIDEwMjQ7CgpmdW5jdGlvbiBfdXBsb2FkRmlsZXMoaW5wdXRJZCwgb3V0cHV0SWQpIHsKICBjb25zdCBzdGVwcyA9IHVwbG9hZEZpbGVzU3RlcChpbnB1dElkLCBvdXRwdXRJZCk7CiAgY29uc3Qgb3V0cHV0RWxlbWVudCA9IGRvY3VtZW50LmdldEVsZW1lbnRCeUlkKG91dHB1dElkKTsKICAvLyBDYWNoZSBzdGVwcyBvbiB0aGUgb3V0cHV0RWxlbWVudCB0byBtYWtlIGl0IGF2YWlsYWJsZSBmb3IgdGhlIG5leHQgY2FsbAogIC8vIHRvIHVwbG9hZEZpbGVzQ29udGludWUgZnJvbSBQeXRob24uCiAgb3V0cHV0RWxlbWVudC5zdGVwcyA9IHN0ZXBzOwoKICByZXR1cm4gX3VwbG9hZEZpbGVzQ29udGludWUob3V0cHV0SWQpOwp9CgovLyBUaGlzIGlzIHJvdWdobHkgYW4gYXN5bmMgZ2VuZXJhdG9yIChub3Qgc3VwcG9ydGVkIGluIHRoZSBicm93c2VyIHlldCksCi8vIHdoZXJlIHRoZXJlIGFyZSBtdWx0aXBsZSBhc3luY2hyb25vdXMgc3RlcHMgYW5kIHRoZSBQeXRob24gc2lkZSBpcyBnb2luZwovLyB0byBwb2xsIGZvciBjb21wbGV0aW9uIG9mIGVhY2ggc3RlcC4KLy8gVGhpcyB1c2VzIGEgUHJvbWlzZSB0byBibG9jayB0aGUgcHl0aG9uIHNpZGUgb24gY29tcGxldGlvbiBvZiBlYWNoIHN0ZXAsCi8vIHRoZW4gcGFzc2VzIHRoZSByZXN1bHQgb2YgdGhlIHByZXZpb3VzIHN0ZXAgYXMgdGhlIGlucHV0IHRvIHRoZSBuZXh0IHN0ZXAuCmZ1bmN0aW9uIF91cGxvYWRGaWxlc0NvbnRpbnVlKG91dHB1dElkKSB7CiAgY29uc3Qgb3V0cHV0RWxlbWVudCA9IGRvY3VtZW50LmdldEVsZW1lbnRCeUlkKG91dHB1dElkKTsKICBjb25zdCBzdGVwcyA9IG91dHB1dEVsZW1lbnQuc3RlcHM7CgogIGNvbnN0IG5leHQgPSBzdGVwcy5uZXh0KG91dHB1dEVsZW1lbnQubGFzdFByb21pc2VWYWx1ZSk7CiAgcmV0dXJuIFByb21pc2UucmVzb2x2ZShuZXh0LnZhbHVlLnByb21pc2UpLnRoZW4oKHZhbHVlKSA9PiB7CiAgICAvLyBDYWNoZSB0aGUgbGFzdCBwcm9taXNlIHZhbHVlIHRvIG1ha2UgaXQgYXZhaWxhYmxlIHRvIHRoZSBuZXh0CiAgICAvLyBzdGVwIG9mIHRoZSBnZW5lcmF0b3IuCiAgICBvdXRwdXRFbGVtZW50Lmxhc3RQcm9taXNlVmFsdWUgPSB2YWx1ZTsKICAgIHJldHVybiBuZXh0LnZhbHVlLnJlc3BvbnNlOwogIH0pOwp9CgovKioKICogR2VuZXJhdG9yIGZ1bmN0aW9uIHdoaWNoIGlzIGNhbGxlZCBiZXR3ZWVuIGVhY2ggYXN5bmMgc3RlcCBvZiB0aGUgdXBsb2FkCiAqIHByb2Nlc3MuCiAqIEBwYXJhbSB7c3RyaW5nfSBpbnB1dElkIEVsZW1lbnQgSUQgb2YgdGhlIGlucHV0IGZpbGUgcGlja2VyIGVsZW1lbnQuCiAqIEBwYXJhbSB7c3RyaW5nfSBvdXRwdXRJZCBFbGVtZW50IElEIG9mIHRoZSBvdXRwdXQgZGlzcGxheS4KICogQHJldHVybiB7IUl0ZXJhYmxlPCFPYmplY3Q+fSBJdGVyYWJsZSBvZiBuZXh0IHN0ZXBzLgogKi8KZnVuY3Rpb24qIHVwbG9hZEZpbGVzU3RlcChpbnB1dElkLCBvdXRwdXRJZCkgewogIGNvbnN0IGlucHV0RWxlbWVudCA9IGRvY3VtZW50LmdldEVsZW1lbnRCeUlkKGlucHV0SWQpOwogIGlucHV0RWxlbWVudC5kaXNhYmxlZCA9IGZhbHNlOwoKICBjb25zdCBvdXRwdXRFbGVtZW50ID0gZG9jdW1lbnQuZ2V0RWxlbWVudEJ5SWQob3V0cHV0SWQpOwogIG91dHB1dEVsZW1lbnQuaW5uZXJIVE1MID0gJyc7CgogIGNvbnN0IHBpY2tlZFByb21pc2UgPSBuZXcgUHJvbWlzZSgocmVzb2x2ZSkgPT4gewogICAgaW5wdXRFbGVtZW50LmFkZEV2ZW50TGlzdGVuZXIoJ2NoYW5nZScsIChlKSA9PiB7CiAgICAgIHJlc29sdmUoZS50YXJnZXQuZmlsZXMpOwogICAgfSk7CiAgfSk7CgogIGNvbnN0IGNhbmNlbCA9IGRvY3VtZW50LmNyZWF0ZUVsZW1lbnQoJ2J1dHRvbicpOwogIGlucHV0RWxlbWVudC5wYXJlbnRFbGVtZW50LmFwcGVuZENoaWxkKGNhbmNlbCk7CiAgY2FuY2VsLnRleHRDb250ZW50ID0gJ0NhbmNlbCB1cGxvYWQnOwogIGNvbnN0IGNhbmNlbFByb21pc2UgPSBuZXcgUHJvbWlzZSgocmVzb2x2ZSkgPT4gewogICAgY2FuY2VsLm9uY2xpY2sgPSAoKSA9PiB7CiAgICAgIHJlc29sdmUobnVsbCk7CiAgICB9OwogIH0pOwoKICAvLyBXYWl0IGZvciB0aGUgdXNlciB0byBwaWNrIHRoZSBmaWxlcy4KICBjb25zdCBmaWxlcyA9IHlpZWxkIHsKICAgIHByb21pc2U6IFByb21pc2UucmFjZShbcGlja2VkUHJvbWlzZSwgY2FuY2VsUHJvbWlzZV0pLAogICAgcmVzcG9uc2U6IHsKICAgICAgYWN0aW9uOiAnc3RhcnRpbmcnLAogICAgfQogIH07CgogIGNhbmNlbC5yZW1vdmUoKTsKCiAgLy8gRGlzYWJsZSB0aGUgaW5wdXQgZWxlbWVudCBzaW5jZSBmdXJ0aGVyIHBpY2tzIGFyZSBub3QgYWxsb3dlZC4KICBpbnB1dEVsZW1lbnQuZGlzYWJsZWQgPSB0cnVlOwoKICBpZiAoIWZpbGVzKSB7CiAgICByZXR1cm4gewogICAgICByZXNwb25zZTogewogICAgICAgIGFjdGlvbjogJ2NvbXBsZXRlJywKICAgICAgfQogICAgfTsKICB9CgogIGZvciAoY29uc3QgZmlsZSBvZiBmaWxlcykgewogICAgY29uc3QgbGkgPSBkb2N1bWVudC5jcmVhdGVFbGVtZW50KCdsaScpOwogICAgbGkuYXBwZW5kKHNwYW4oZmlsZS5uYW1lLCB7Zm9udFdlaWdodDogJ2JvbGQnfSkpOwogICAgbGkuYXBwZW5kKHNwYW4oCiAgICAgICAgYCgke2ZpbGUudHlwZSB8fCAnbi9hJ30pIC0gJHtmaWxlLnNpemV9IGJ5dGVzLCBgICsKICAgICAgICBgbGFzdCBtb2RpZmllZDogJHsKICAgICAgICAgICAgZmlsZS5sYXN0TW9kaWZpZWREYXRlID8gZmlsZS5sYXN0TW9kaWZpZWREYXRlLnRvTG9jYWxlRGF0ZVN0cmluZygpIDoKICAgICAgICAgICAgICAgICAgICAgICAgICAgICAgICAgICAgJ24vYSd9IC0gYCkpOwogICAgY29uc3QgcGVyY2VudCA9IHNwYW4oJzAlIGRvbmUnKTsKICAgIGxpLmFwcGVuZENoaWxkKHBlcmNlbnQpOwoKICAgIG91dHB1dEVsZW1lbnQuYXBwZW5kQ2hpbGQobGkpOwoKICAgIGNvbnN0IGZpbGVEYXRhUHJvbWlzZSA9IG5ldyBQcm9taXNlKChyZXNvbHZlKSA9PiB7CiAgICAgIGNvbnN0IHJlYWRlciA9IG5ldyBGaWxlUmVhZGVyKCk7CiAgICAgIHJlYWRlci5vbmxvYWQgPSAoZSkgPT4gewogICAgICAgIHJlc29sdmUoZS50YXJnZXQucmVzdWx0KTsKICAgICAgfTsKICAgICAgcmVhZGVyLnJlYWRBc0FycmF5QnVmZmVyKGZpbGUpOwogICAgfSk7CiAgICAvLyBXYWl0IGZvciB0aGUgZGF0YSB0byBiZSByZWFkeS4KICAgIGxldCBmaWxlRGF0YSA9IHlpZWxkIHsKICAgICAgcHJvbWlzZTogZmlsZURhdGFQcm9taXNlLAogICAgICByZXNwb25zZTogewogICAgICAgIGFjdGlvbjogJ2NvbnRpbnVlJywKICAgICAgfQogICAgfTsKCiAgICAvLyBVc2UgYSBjaHVua2VkIHNlbmRpbmcgdG8gYXZvaWQgbWVzc2FnZSBzaXplIGxpbWl0cy4gU2VlIGIvNjIxMTU2NjAuCiAgICBsZXQgcG9zaXRpb24gPSAwOwogICAgZG8gewogICAgICBjb25zdCBsZW5ndGggPSBNYXRoLm1pbihmaWxlRGF0YS5ieXRlTGVuZ3RoIC0gcG9zaXRpb24sIE1BWF9QQVlMT0FEX1NJWkUpOwogICAgICBjb25zdCBjaHVuayA9IG5ldyBVaW50OEFycmF5KGZpbGVEYXRhLCBwb3NpdGlvbiwgbGVuZ3RoKTsKICAgICAgcG9zaXRpb24gKz0gbGVuZ3RoOwoKICAgICAgY29uc3QgYmFzZTY0ID0gYnRvYShTdHJpbmcuZnJvbUNoYXJDb2RlLmFwcGx5KG51bGwsIGNodW5rKSk7CiAgICAgIHlpZWxkIHsKICAgICAgICByZXNwb25zZTogewogICAgICAgICAgYWN0aW9uOiAnYXBwZW5kJywKICAgICAgICAgIGZpbGU6IGZpbGUubmFtZSwKICAgICAgICAgIGRhdGE6IGJhc2U2NCwKICAgICAgICB9LAogICAgICB9OwoKICAgICAgbGV0IHBlcmNlbnREb25lID0gZmlsZURhdGEuYnl0ZUxlbmd0aCA9PT0gMCA/CiAgICAgICAgICAxMDAgOgogICAgICAgICAgTWF0aC5yb3VuZCgocG9zaXRpb24gLyBmaWxlRGF0YS5ieXRlTGVuZ3RoKSAqIDEwMCk7CiAgICAgIHBlcmNlbnQudGV4dENvbnRlbnQgPSBgJHtwZXJjZW50RG9uZX0lIGRvbmVgOwoKICAgIH0gd2hpbGUgKHBvc2l0aW9uIDwgZmlsZURhdGEuYnl0ZUxlbmd0aCk7CiAgfQoKICAvLyBBbGwgZG9uZS4KICB5aWVsZCB7CiAgICByZXNwb25zZTogewogICAgICBhY3Rpb246ICdjb21wbGV0ZScsCiAgICB9CiAgfTsKfQoKc2NvcGUuZ29vZ2xlID0gc2NvcGUuZ29vZ2xlIHx8IHt9OwpzY29wZS5nb29nbGUuY29sYWIgPSBzY29wZS5nb29nbGUuY29sYWIgfHwge307CnNjb3BlLmdvb2dsZS5jb2xhYi5fZmlsZXMgPSB7CiAgX3VwbG9hZEZpbGVzLAogIF91cGxvYWRGaWxlc0NvbnRpbnVlLAp9Owp9KShzZWxmKTsK",
              "ok": true,
              "headers": [
                [
                  "content-type",
                  "application/javascript"
                ]
              ],
              "status": 200,
              "status_text": ""
            }
          }
        },
        "id": "52r__0skuXl5",
        "outputId": "facbb8e0-9d73-4d2f-abc6-48db025a076c"
      },
      "execution_count": 1,
      "outputs": [
        {
          "output_type": "display_data",
          "data": {
            "text/plain": [
              "<IPython.core.display.HTML object>"
            ],
            "text/html": [
              "\n",
              "     <input type=\"file\" id=\"files-bcf852fc-d785-45ff-affb-128482c33e03\" name=\"files[]\" multiple disabled\n",
              "        style=\"border:none\" />\n",
              "     <output id=\"result-bcf852fc-d785-45ff-affb-128482c33e03\">\n",
              "      Upload widget is only available when the cell has been executed in the\n",
              "      current browser session. Please rerun this cell to enable.\n",
              "      </output>\n",
              "      <script src=\"/nbextensions/google.colab/files.js\"></script> "
            ]
          },
          "metadata": {}
        },
        {
          "output_type": "stream",
          "name": "stdout",
          "text": [
            "Saving Telco-Customer-Churn.csv to Telco-Customer-Churn (1).csv\n"
          ]
        }
      ]
    },
    {
      "cell_type": "code",
      "source": [
        "# importing libraries\n",
        "import pandas as pd\n",
        "from matplotlib import pyplot as plt\n",
        "import numpy as np\n",
        "%matplotlib inline"
      ],
      "metadata": {
        "id": "dCcFj_Nhuc9m"
      },
      "execution_count": 2,
      "outputs": []
    },
    {
      "cell_type": "markdown",
      "source": [
        "### Load data"
      ],
      "metadata": {
        "id": "bQS2gMazvWfT"
      }
    },
    {
      "cell_type": "code",
      "source": [
        "df = pd.read_csv(\"Telco-Customer-Churn.csv\")\n",
        "df.sample(5)"
      ],
      "metadata": {
        "colab": {
          "base_uri": "https://localhost:8080/",
          "height": 386
        },
        "id": "4S3jXqD9vRus",
        "outputId": "91d2cff2-cfe4-4c94-886d-0c59596dbad2"
      },
      "execution_count": 3,
      "outputs": [
        {
          "output_type": "execute_result",
          "data": {
            "text/plain": [
              "      customerID  gender  SeniorCitizen Partner Dependents  tenure  \\\n",
              "5938  9971-ZWPBF    Male              1     Yes        Yes      34   \n",
              "1416  4859-ZSRDZ  Female              0     Yes        Yes      58   \n",
              "517   6705-LXORM  Female              1     Yes         No       5   \n",
              "2509  1926-QUZNN  Female              0     Yes         No      72   \n",
              "4381  7481-ATQQS  Female              1      No         No      49   \n",
              "\n",
              "     PhoneService     MultipleLines InternetService       OnlineSecurity  ...  \\\n",
              "5938          Yes               Yes     Fiber optic                   No  ...   \n",
              "1416           No  No phone service             DSL                   No  ...   \n",
              "517           Yes                No     Fiber optic                   No  ...   \n",
              "2509          Yes               Yes              No  No internet service  ...   \n",
              "4381          Yes               Yes     Fiber optic                   No  ...   \n",
              "\n",
              "         DeviceProtection          TechSupport          StreamingTV  \\\n",
              "5938                  Yes                  Yes                  Yes   \n",
              "1416                  Yes                  Yes                  Yes   \n",
              "517                    No                   No                   No   \n",
              "2509  No internet service  No internet service  No internet service   \n",
              "4381                  Yes                   No                   No   \n",
              "\n",
              "          StreamingMovies        Contract PaperlessBilling  \\\n",
              "5938                  Yes  Month-to-month              Yes   \n",
              "1416                  Yes        Two year              Yes   \n",
              "517                    No  Month-to-month               No   \n",
              "2509  No internet service        Two year              Yes   \n",
              "4381                  Yes  Month-to-month              Yes   \n",
              "\n",
              "                  PaymentMethod MonthlyCharges  TotalCharges Churn  \n",
              "5938           Electronic check         108.90        3625.2    No  \n",
              "1416    Credit card (automatic)          55.50        3166.9    No  \n",
              "517            Electronic check          70.05         302.6    No  \n",
              "2509  Bank transfer (automatic)          25.25        1841.2    No  \n",
              "4381    Credit card (automatic)          90.85       4515.85   Yes  \n",
              "\n",
              "[5 rows x 21 columns]"
            ],
            "text/html": [
              "\n",
              "  <div id=\"df-c2d7651b-75ae-4f13-a57a-92a55a8f5ffa\">\n",
              "    <div class=\"colab-df-container\">\n",
              "      <div>\n",
              "<style scoped>\n",
              "    .dataframe tbody tr th:only-of-type {\n",
              "        vertical-align: middle;\n",
              "    }\n",
              "\n",
              "    .dataframe tbody tr th {\n",
              "        vertical-align: top;\n",
              "    }\n",
              "\n",
              "    .dataframe thead th {\n",
              "        text-align: right;\n",
              "    }\n",
              "</style>\n",
              "<table border=\"1\" class=\"dataframe\">\n",
              "  <thead>\n",
              "    <tr style=\"text-align: right;\">\n",
              "      <th></th>\n",
              "      <th>customerID</th>\n",
              "      <th>gender</th>\n",
              "      <th>SeniorCitizen</th>\n",
              "      <th>Partner</th>\n",
              "      <th>Dependents</th>\n",
              "      <th>tenure</th>\n",
              "      <th>PhoneService</th>\n",
              "      <th>MultipleLines</th>\n",
              "      <th>InternetService</th>\n",
              "      <th>OnlineSecurity</th>\n",
              "      <th>...</th>\n",
              "      <th>DeviceProtection</th>\n",
              "      <th>TechSupport</th>\n",
              "      <th>StreamingTV</th>\n",
              "      <th>StreamingMovies</th>\n",
              "      <th>Contract</th>\n",
              "      <th>PaperlessBilling</th>\n",
              "      <th>PaymentMethod</th>\n",
              "      <th>MonthlyCharges</th>\n",
              "      <th>TotalCharges</th>\n",
              "      <th>Churn</th>\n",
              "    </tr>\n",
              "  </thead>\n",
              "  <tbody>\n",
              "    <tr>\n",
              "      <th>5938</th>\n",
              "      <td>9971-ZWPBF</td>\n",
              "      <td>Male</td>\n",
              "      <td>1</td>\n",
              "      <td>Yes</td>\n",
              "      <td>Yes</td>\n",
              "      <td>34</td>\n",
              "      <td>Yes</td>\n",
              "      <td>Yes</td>\n",
              "      <td>Fiber optic</td>\n",
              "      <td>No</td>\n",
              "      <td>...</td>\n",
              "      <td>Yes</td>\n",
              "      <td>Yes</td>\n",
              "      <td>Yes</td>\n",
              "      <td>Yes</td>\n",
              "      <td>Month-to-month</td>\n",
              "      <td>Yes</td>\n",
              "      <td>Electronic check</td>\n",
              "      <td>108.90</td>\n",
              "      <td>3625.2</td>\n",
              "      <td>No</td>\n",
              "    </tr>\n",
              "    <tr>\n",
              "      <th>1416</th>\n",
              "      <td>4859-ZSRDZ</td>\n",
              "      <td>Female</td>\n",
              "      <td>0</td>\n",
              "      <td>Yes</td>\n",
              "      <td>Yes</td>\n",
              "      <td>58</td>\n",
              "      <td>No</td>\n",
              "      <td>No phone service</td>\n",
              "      <td>DSL</td>\n",
              "      <td>No</td>\n",
              "      <td>...</td>\n",
              "      <td>Yes</td>\n",
              "      <td>Yes</td>\n",
              "      <td>Yes</td>\n",
              "      <td>Yes</td>\n",
              "      <td>Two year</td>\n",
              "      <td>Yes</td>\n",
              "      <td>Credit card (automatic)</td>\n",
              "      <td>55.50</td>\n",
              "      <td>3166.9</td>\n",
              "      <td>No</td>\n",
              "    </tr>\n",
              "    <tr>\n",
              "      <th>517</th>\n",
              "      <td>6705-LXORM</td>\n",
              "      <td>Female</td>\n",
              "      <td>1</td>\n",
              "      <td>Yes</td>\n",
              "      <td>No</td>\n",
              "      <td>5</td>\n",
              "      <td>Yes</td>\n",
              "      <td>No</td>\n",
              "      <td>Fiber optic</td>\n",
              "      <td>No</td>\n",
              "      <td>...</td>\n",
              "      <td>No</td>\n",
              "      <td>No</td>\n",
              "      <td>No</td>\n",
              "      <td>No</td>\n",
              "      <td>Month-to-month</td>\n",
              "      <td>No</td>\n",
              "      <td>Electronic check</td>\n",
              "      <td>70.05</td>\n",
              "      <td>302.6</td>\n",
              "      <td>No</td>\n",
              "    </tr>\n",
              "    <tr>\n",
              "      <th>2509</th>\n",
              "      <td>1926-QUZNN</td>\n",
              "      <td>Female</td>\n",
              "      <td>0</td>\n",
              "      <td>Yes</td>\n",
              "      <td>No</td>\n",
              "      <td>72</td>\n",
              "      <td>Yes</td>\n",
              "      <td>Yes</td>\n",
              "      <td>No</td>\n",
              "      <td>No internet service</td>\n",
              "      <td>...</td>\n",
              "      <td>No internet service</td>\n",
              "      <td>No internet service</td>\n",
              "      <td>No internet service</td>\n",
              "      <td>No internet service</td>\n",
              "      <td>Two year</td>\n",
              "      <td>Yes</td>\n",
              "      <td>Bank transfer (automatic)</td>\n",
              "      <td>25.25</td>\n",
              "      <td>1841.2</td>\n",
              "      <td>No</td>\n",
              "    </tr>\n",
              "    <tr>\n",
              "      <th>4381</th>\n",
              "      <td>7481-ATQQS</td>\n",
              "      <td>Female</td>\n",
              "      <td>1</td>\n",
              "      <td>No</td>\n",
              "      <td>No</td>\n",
              "      <td>49</td>\n",
              "      <td>Yes</td>\n",
              "      <td>Yes</td>\n",
              "      <td>Fiber optic</td>\n",
              "      <td>No</td>\n",
              "      <td>...</td>\n",
              "      <td>Yes</td>\n",
              "      <td>No</td>\n",
              "      <td>No</td>\n",
              "      <td>Yes</td>\n",
              "      <td>Month-to-month</td>\n",
              "      <td>Yes</td>\n",
              "      <td>Credit card (automatic)</td>\n",
              "      <td>90.85</td>\n",
              "      <td>4515.85</td>\n",
              "      <td>Yes</td>\n",
              "    </tr>\n",
              "  </tbody>\n",
              "</table>\n",
              "<p>5 rows × 21 columns</p>\n",
              "</div>\n",
              "      <button class=\"colab-df-convert\" onclick=\"convertToInteractive('df-c2d7651b-75ae-4f13-a57a-92a55a8f5ffa')\"\n",
              "              title=\"Convert this dataframe to an interactive table.\"\n",
              "              style=\"display:none;\">\n",
              "        \n",
              "  <svg xmlns=\"http://www.w3.org/2000/svg\" height=\"24px\"viewBox=\"0 0 24 24\"\n",
              "       width=\"24px\">\n",
              "    <path d=\"M0 0h24v24H0V0z\" fill=\"none\"/>\n",
              "    <path d=\"M18.56 5.44l.94 2.06.94-2.06 2.06-.94-2.06-.94-.94-2.06-.94 2.06-2.06.94zm-11 1L8.5 8.5l.94-2.06 2.06-.94-2.06-.94L8.5 2.5l-.94 2.06-2.06.94zm10 10l.94 2.06.94-2.06 2.06-.94-2.06-.94-.94-2.06-.94 2.06-2.06.94z\"/><path d=\"M17.41 7.96l-1.37-1.37c-.4-.4-.92-.59-1.43-.59-.52 0-1.04.2-1.43.59L10.3 9.45l-7.72 7.72c-.78.78-.78 2.05 0 2.83L4 21.41c.39.39.9.59 1.41.59.51 0 1.02-.2 1.41-.59l7.78-7.78 2.81-2.81c.8-.78.8-2.07 0-2.86zM5.41 20L4 18.59l7.72-7.72 1.47 1.35L5.41 20z\"/>\n",
              "  </svg>\n",
              "      </button>\n",
              "      \n",
              "  <style>\n",
              "    .colab-df-container {\n",
              "      display:flex;\n",
              "      flex-wrap:wrap;\n",
              "      gap: 12px;\n",
              "    }\n",
              "\n",
              "    .colab-df-convert {\n",
              "      background-color: #E8F0FE;\n",
              "      border: none;\n",
              "      border-radius: 50%;\n",
              "      cursor: pointer;\n",
              "      display: none;\n",
              "      fill: #1967D2;\n",
              "      height: 32px;\n",
              "      padding: 0 0 0 0;\n",
              "      width: 32px;\n",
              "    }\n",
              "\n",
              "    .colab-df-convert:hover {\n",
              "      background-color: #E2EBFA;\n",
              "      box-shadow: 0px 1px 2px rgba(60, 64, 67, 0.3), 0px 1px 3px 1px rgba(60, 64, 67, 0.15);\n",
              "      fill: #174EA6;\n",
              "    }\n",
              "\n",
              "    [theme=dark] .colab-df-convert {\n",
              "      background-color: #3B4455;\n",
              "      fill: #D2E3FC;\n",
              "    }\n",
              "\n",
              "    [theme=dark] .colab-df-convert:hover {\n",
              "      background-color: #434B5C;\n",
              "      box-shadow: 0px 1px 3px 1px rgba(0, 0, 0, 0.15);\n",
              "      filter: drop-shadow(0px 1px 2px rgba(0, 0, 0, 0.3));\n",
              "      fill: #FFFFFF;\n",
              "    }\n",
              "  </style>\n",
              "\n",
              "      <script>\n",
              "        const buttonEl =\n",
              "          document.querySelector('#df-c2d7651b-75ae-4f13-a57a-92a55a8f5ffa button.colab-df-convert');\n",
              "        buttonEl.style.display =\n",
              "          google.colab.kernel.accessAllowed ? 'block' : 'none';\n",
              "\n",
              "        async function convertToInteractive(key) {\n",
              "          const element = document.querySelector('#df-c2d7651b-75ae-4f13-a57a-92a55a8f5ffa');\n",
              "          const dataTable =\n",
              "            await google.colab.kernel.invokeFunction('convertToInteractive',\n",
              "                                                     [key], {});\n",
              "          if (!dataTable) return;\n",
              "\n",
              "          const docLinkHtml = 'Like what you see? Visit the ' +\n",
              "            '<a target=\"_blank\" href=https://colab.research.google.com/notebooks/data_table.ipynb>data table notebook</a>'\n",
              "            + ' to learn more about interactive tables.';\n",
              "          element.innerHTML = '';\n",
              "          dataTable['output_type'] = 'display_data';\n",
              "          await google.colab.output.renderOutput(dataTable, element);\n",
              "          const docLink = document.createElement('div');\n",
              "          docLink.innerHTML = docLinkHtml;\n",
              "          element.appendChild(docLink);\n",
              "        }\n",
              "      </script>\n",
              "    </div>\n",
              "  </div>\n",
              "  "
            ]
          },
          "metadata": {},
          "execution_count": 3
        }
      ]
    },
    {
      "cell_type": "markdown",
      "source": [
        "By Observing dataset, We can say that `custmerID` column will not be useful. Hence dropping that column"
      ],
      "metadata": {
        "id": "ew5RN9wvvzMz"
      }
    },
    {
      "cell_type": "code",
      "source": [
        "# drop column\n",
        "df.drop('customerID', axis='columns', inplace=True)"
      ],
      "metadata": {
        "id": "kXyUaTd-vkqA"
      },
      "execution_count": 4,
      "outputs": []
    },
    {
      "cell_type": "code",
      "source": [
        "df.info()"
      ],
      "metadata": {
        "colab": {
          "base_uri": "https://localhost:8080/"
        },
        "id": "bKFVF5KawMWd",
        "outputId": "f98f7d7e-013c-4cb4-b17f-d6ca76167d4e"
      },
      "execution_count": 5,
      "outputs": [
        {
          "output_type": "stream",
          "name": "stdout",
          "text": [
            "<class 'pandas.core.frame.DataFrame'>\n",
            "RangeIndex: 7043 entries, 0 to 7042\n",
            "Data columns (total 20 columns):\n",
            " #   Column            Non-Null Count  Dtype  \n",
            "---  ------            --------------  -----  \n",
            " 0   gender            7043 non-null   object \n",
            " 1   SeniorCitizen     7043 non-null   int64  \n",
            " 2   Partner           7043 non-null   object \n",
            " 3   Dependents        7043 non-null   object \n",
            " 4   tenure            7043 non-null   int64  \n",
            " 5   PhoneService      7043 non-null   object \n",
            " 6   MultipleLines     7043 non-null   object \n",
            " 7   InternetService   7043 non-null   object \n",
            " 8   OnlineSecurity    7043 non-null   object \n",
            " 9   OnlineBackup      7043 non-null   object \n",
            " 10  DeviceProtection  7043 non-null   object \n",
            " 11  TechSupport       7043 non-null   object \n",
            " 12  StreamingTV       7043 non-null   object \n",
            " 13  StreamingMovies   7043 non-null   object \n",
            " 14  Contract          7043 non-null   object \n",
            " 15  PaperlessBilling  7043 non-null   object \n",
            " 16  PaymentMethod     7043 non-null   object \n",
            " 17  MonthlyCharges    7043 non-null   float64\n",
            " 18  TotalCharges      7043 non-null   object \n",
            " 19  Churn             7043 non-null   object \n",
            "dtypes: float64(1), int64(2), object(17)\n",
            "memory usage: 1.1+ MB\n"
          ]
        }
      ]
    },
    {
      "cell_type": "markdown",
      "source": [
        "Quick glance at above makes us realize that `TotalCharges` should be float but ere it is object. lets have look on it"
      ],
      "metadata": {
        "id": "j19Rc4ALwki2"
      }
    },
    {
      "cell_type": "code",
      "source": [
        "df.TotalCharges.values"
      ],
      "metadata": {
        "colab": {
          "base_uri": "https://localhost:8080/"
        },
        "id": "s3LzEoF0wZN6",
        "outputId": "e58012da-9fa0-4595-d38e-c14c3b0c9738"
      },
      "execution_count": 6,
      "outputs": [
        {
          "output_type": "execute_result",
          "data": {
            "text/plain": [
              "array(['29.85', '1889.5', '108.15', ..., '346.45', '306.6', '6844.5'],\n",
              "      dtype=object)"
            ]
          },
          "metadata": {},
          "execution_count": 6
        }
      ]
    },
    {
      "cell_type": "markdown",
      "source": [
        "It is present in **string**, We need to convert it into **Numbers**"
      ],
      "metadata": {
        "id": "B0VuML1xxOsg"
      }
    },
    {
      "cell_type": "code",
      "source": [
        "# some values seems to be not numbers but blank string. Let's find out such rows\n",
        "pd.to_numeric(df.TotalCharges,errors='coerce').isnull()"
      ],
      "metadata": {
        "colab": {
          "base_uri": "https://localhost:8080/"
        },
        "id": "z_Qo9wWxxsOF",
        "outputId": "4fdfc431-4606-42b7-d0a4-50c20cebc54a"
      },
      "execution_count": 7,
      "outputs": [
        {
          "output_type": "execute_result",
          "data": {
            "text/plain": [
              "0       False\n",
              "1       False\n",
              "2       False\n",
              "3       False\n",
              "4       False\n",
              "        ...  \n",
              "7038    False\n",
              "7039    False\n",
              "7040    False\n",
              "7041    False\n",
              "7042    False\n",
              "Name: TotalCharges, Length: 7043, dtype: bool"
            ]
          },
          "metadata": {},
          "execution_count": 7
        }
      ]
    },
    {
      "cell_type": "code",
      "source": [
        "# lets see data\n",
        "df[pd.to_numeric(df.TotalCharges,errors='coerce').isnull()]"
      ],
      "metadata": {
        "colab": {
          "base_uri": "https://localhost:8080/",
          "height": 615
        },
        "id": "4oons6_Xxzap",
        "outputId": "a010f1a4-a556-4f2d-f0b8-35ee72a8c83b"
      },
      "execution_count": 8,
      "outputs": [
        {
          "output_type": "execute_result",
          "data": {
            "text/plain": [
              "      gender  SeniorCitizen Partner Dependents  tenure PhoneService  \\\n",
              "488   Female              0     Yes        Yes       0           No   \n",
              "753     Male              0      No        Yes       0          Yes   \n",
              "936   Female              0     Yes        Yes       0          Yes   \n",
              "1082    Male              0     Yes        Yes       0          Yes   \n",
              "1340  Female              0     Yes        Yes       0           No   \n",
              "3331    Male              0     Yes        Yes       0          Yes   \n",
              "3826    Male              0     Yes        Yes       0          Yes   \n",
              "4380  Female              0     Yes        Yes       0          Yes   \n",
              "5218    Male              0     Yes        Yes       0          Yes   \n",
              "6670  Female              0     Yes        Yes       0          Yes   \n",
              "6754    Male              0      No        Yes       0          Yes   \n",
              "\n",
              "         MultipleLines InternetService       OnlineSecurity  \\\n",
              "488   No phone service             DSL                  Yes   \n",
              "753                 No              No  No internet service   \n",
              "936                 No             DSL                  Yes   \n",
              "1082               Yes              No  No internet service   \n",
              "1340  No phone service             DSL                  Yes   \n",
              "3331                No              No  No internet service   \n",
              "3826               Yes              No  No internet service   \n",
              "4380                No              No  No internet service   \n",
              "5218                No              No  No internet service   \n",
              "6670               Yes             DSL                   No   \n",
              "6754               Yes             DSL                  Yes   \n",
              "\n",
              "             OnlineBackup     DeviceProtection          TechSupport  \\\n",
              "488                    No                  Yes                  Yes   \n",
              "753   No internet service  No internet service  No internet service   \n",
              "936                   Yes                  Yes                   No   \n",
              "1082  No internet service  No internet service  No internet service   \n",
              "1340                  Yes                  Yes                  Yes   \n",
              "3331  No internet service  No internet service  No internet service   \n",
              "3826  No internet service  No internet service  No internet service   \n",
              "4380  No internet service  No internet service  No internet service   \n",
              "5218  No internet service  No internet service  No internet service   \n",
              "6670                  Yes                  Yes                  Yes   \n",
              "6754                  Yes                   No                  Yes   \n",
              "\n",
              "              StreamingTV      StreamingMovies  Contract PaperlessBilling  \\\n",
              "488                   Yes                   No  Two year              Yes   \n",
              "753   No internet service  No internet service  Two year               No   \n",
              "936                   Yes                  Yes  Two year               No   \n",
              "1082  No internet service  No internet service  Two year               No   \n",
              "1340                  Yes                   No  Two year               No   \n",
              "3331  No internet service  No internet service  Two year               No   \n",
              "3826  No internet service  No internet service  Two year               No   \n",
              "4380  No internet service  No internet service  Two year               No   \n",
              "5218  No internet service  No internet service  One year              Yes   \n",
              "6670                  Yes                   No  Two year               No   \n",
              "6754                   No                   No  Two year              Yes   \n",
              "\n",
              "                  PaymentMethod  MonthlyCharges TotalCharges Churn  \n",
              "488   Bank transfer (automatic)           52.55                 No  \n",
              "753                Mailed check           20.25                 No  \n",
              "936                Mailed check           80.85                 No  \n",
              "1082               Mailed check           25.75                 No  \n",
              "1340    Credit card (automatic)           56.05                 No  \n",
              "3331               Mailed check           19.85                 No  \n",
              "3826               Mailed check           25.35                 No  \n",
              "4380               Mailed check           20.00                 No  \n",
              "5218               Mailed check           19.70                 No  \n",
              "6670               Mailed check           73.35                 No  \n",
              "6754  Bank transfer (automatic)           61.90                 No  "
            ],
            "text/html": [
              "\n",
              "  <div id=\"df-ff9e353d-d008-4f4b-ab6c-59b822523727\">\n",
              "    <div class=\"colab-df-container\">\n",
              "      <div>\n",
              "<style scoped>\n",
              "    .dataframe tbody tr th:only-of-type {\n",
              "        vertical-align: middle;\n",
              "    }\n",
              "\n",
              "    .dataframe tbody tr th {\n",
              "        vertical-align: top;\n",
              "    }\n",
              "\n",
              "    .dataframe thead th {\n",
              "        text-align: right;\n",
              "    }\n",
              "</style>\n",
              "<table border=\"1\" class=\"dataframe\">\n",
              "  <thead>\n",
              "    <tr style=\"text-align: right;\">\n",
              "      <th></th>\n",
              "      <th>gender</th>\n",
              "      <th>SeniorCitizen</th>\n",
              "      <th>Partner</th>\n",
              "      <th>Dependents</th>\n",
              "      <th>tenure</th>\n",
              "      <th>PhoneService</th>\n",
              "      <th>MultipleLines</th>\n",
              "      <th>InternetService</th>\n",
              "      <th>OnlineSecurity</th>\n",
              "      <th>OnlineBackup</th>\n",
              "      <th>DeviceProtection</th>\n",
              "      <th>TechSupport</th>\n",
              "      <th>StreamingTV</th>\n",
              "      <th>StreamingMovies</th>\n",
              "      <th>Contract</th>\n",
              "      <th>PaperlessBilling</th>\n",
              "      <th>PaymentMethod</th>\n",
              "      <th>MonthlyCharges</th>\n",
              "      <th>TotalCharges</th>\n",
              "      <th>Churn</th>\n",
              "    </tr>\n",
              "  </thead>\n",
              "  <tbody>\n",
              "    <tr>\n",
              "      <th>488</th>\n",
              "      <td>Female</td>\n",
              "      <td>0</td>\n",
              "      <td>Yes</td>\n",
              "      <td>Yes</td>\n",
              "      <td>0</td>\n",
              "      <td>No</td>\n",
              "      <td>No phone service</td>\n",
              "      <td>DSL</td>\n",
              "      <td>Yes</td>\n",
              "      <td>No</td>\n",
              "      <td>Yes</td>\n",
              "      <td>Yes</td>\n",
              "      <td>Yes</td>\n",
              "      <td>No</td>\n",
              "      <td>Two year</td>\n",
              "      <td>Yes</td>\n",
              "      <td>Bank transfer (automatic)</td>\n",
              "      <td>52.55</td>\n",
              "      <td></td>\n",
              "      <td>No</td>\n",
              "    </tr>\n",
              "    <tr>\n",
              "      <th>753</th>\n",
              "      <td>Male</td>\n",
              "      <td>0</td>\n",
              "      <td>No</td>\n",
              "      <td>Yes</td>\n",
              "      <td>0</td>\n",
              "      <td>Yes</td>\n",
              "      <td>No</td>\n",
              "      <td>No</td>\n",
              "      <td>No internet service</td>\n",
              "      <td>No internet service</td>\n",
              "      <td>No internet service</td>\n",
              "      <td>No internet service</td>\n",
              "      <td>No internet service</td>\n",
              "      <td>No internet service</td>\n",
              "      <td>Two year</td>\n",
              "      <td>No</td>\n",
              "      <td>Mailed check</td>\n",
              "      <td>20.25</td>\n",
              "      <td></td>\n",
              "      <td>No</td>\n",
              "    </tr>\n",
              "    <tr>\n",
              "      <th>936</th>\n",
              "      <td>Female</td>\n",
              "      <td>0</td>\n",
              "      <td>Yes</td>\n",
              "      <td>Yes</td>\n",
              "      <td>0</td>\n",
              "      <td>Yes</td>\n",
              "      <td>No</td>\n",
              "      <td>DSL</td>\n",
              "      <td>Yes</td>\n",
              "      <td>Yes</td>\n",
              "      <td>Yes</td>\n",
              "      <td>No</td>\n",
              "      <td>Yes</td>\n",
              "      <td>Yes</td>\n",
              "      <td>Two year</td>\n",
              "      <td>No</td>\n",
              "      <td>Mailed check</td>\n",
              "      <td>80.85</td>\n",
              "      <td></td>\n",
              "      <td>No</td>\n",
              "    </tr>\n",
              "    <tr>\n",
              "      <th>1082</th>\n",
              "      <td>Male</td>\n",
              "      <td>0</td>\n",
              "      <td>Yes</td>\n",
              "      <td>Yes</td>\n",
              "      <td>0</td>\n",
              "      <td>Yes</td>\n",
              "      <td>Yes</td>\n",
              "      <td>No</td>\n",
              "      <td>No internet service</td>\n",
              "      <td>No internet service</td>\n",
              "      <td>No internet service</td>\n",
              "      <td>No internet service</td>\n",
              "      <td>No internet service</td>\n",
              "      <td>No internet service</td>\n",
              "      <td>Two year</td>\n",
              "      <td>No</td>\n",
              "      <td>Mailed check</td>\n",
              "      <td>25.75</td>\n",
              "      <td></td>\n",
              "      <td>No</td>\n",
              "    </tr>\n",
              "    <tr>\n",
              "      <th>1340</th>\n",
              "      <td>Female</td>\n",
              "      <td>0</td>\n",
              "      <td>Yes</td>\n",
              "      <td>Yes</td>\n",
              "      <td>0</td>\n",
              "      <td>No</td>\n",
              "      <td>No phone service</td>\n",
              "      <td>DSL</td>\n",
              "      <td>Yes</td>\n",
              "      <td>Yes</td>\n",
              "      <td>Yes</td>\n",
              "      <td>Yes</td>\n",
              "      <td>Yes</td>\n",
              "      <td>No</td>\n",
              "      <td>Two year</td>\n",
              "      <td>No</td>\n",
              "      <td>Credit card (automatic)</td>\n",
              "      <td>56.05</td>\n",
              "      <td></td>\n",
              "      <td>No</td>\n",
              "    </tr>\n",
              "    <tr>\n",
              "      <th>3331</th>\n",
              "      <td>Male</td>\n",
              "      <td>0</td>\n",
              "      <td>Yes</td>\n",
              "      <td>Yes</td>\n",
              "      <td>0</td>\n",
              "      <td>Yes</td>\n",
              "      <td>No</td>\n",
              "      <td>No</td>\n",
              "      <td>No internet service</td>\n",
              "      <td>No internet service</td>\n",
              "      <td>No internet service</td>\n",
              "      <td>No internet service</td>\n",
              "      <td>No internet service</td>\n",
              "      <td>No internet service</td>\n",
              "      <td>Two year</td>\n",
              "      <td>No</td>\n",
              "      <td>Mailed check</td>\n",
              "      <td>19.85</td>\n",
              "      <td></td>\n",
              "      <td>No</td>\n",
              "    </tr>\n",
              "    <tr>\n",
              "      <th>3826</th>\n",
              "      <td>Male</td>\n",
              "      <td>0</td>\n",
              "      <td>Yes</td>\n",
              "      <td>Yes</td>\n",
              "      <td>0</td>\n",
              "      <td>Yes</td>\n",
              "      <td>Yes</td>\n",
              "      <td>No</td>\n",
              "      <td>No internet service</td>\n",
              "      <td>No internet service</td>\n",
              "      <td>No internet service</td>\n",
              "      <td>No internet service</td>\n",
              "      <td>No internet service</td>\n",
              "      <td>No internet service</td>\n",
              "      <td>Two year</td>\n",
              "      <td>No</td>\n",
              "      <td>Mailed check</td>\n",
              "      <td>25.35</td>\n",
              "      <td></td>\n",
              "      <td>No</td>\n",
              "    </tr>\n",
              "    <tr>\n",
              "      <th>4380</th>\n",
              "      <td>Female</td>\n",
              "      <td>0</td>\n",
              "      <td>Yes</td>\n",
              "      <td>Yes</td>\n",
              "      <td>0</td>\n",
              "      <td>Yes</td>\n",
              "      <td>No</td>\n",
              "      <td>No</td>\n",
              "      <td>No internet service</td>\n",
              "      <td>No internet service</td>\n",
              "      <td>No internet service</td>\n",
              "      <td>No internet service</td>\n",
              "      <td>No internet service</td>\n",
              "      <td>No internet service</td>\n",
              "      <td>Two year</td>\n",
              "      <td>No</td>\n",
              "      <td>Mailed check</td>\n",
              "      <td>20.00</td>\n",
              "      <td></td>\n",
              "      <td>No</td>\n",
              "    </tr>\n",
              "    <tr>\n",
              "      <th>5218</th>\n",
              "      <td>Male</td>\n",
              "      <td>0</td>\n",
              "      <td>Yes</td>\n",
              "      <td>Yes</td>\n",
              "      <td>0</td>\n",
              "      <td>Yes</td>\n",
              "      <td>No</td>\n",
              "      <td>No</td>\n",
              "      <td>No internet service</td>\n",
              "      <td>No internet service</td>\n",
              "      <td>No internet service</td>\n",
              "      <td>No internet service</td>\n",
              "      <td>No internet service</td>\n",
              "      <td>No internet service</td>\n",
              "      <td>One year</td>\n",
              "      <td>Yes</td>\n",
              "      <td>Mailed check</td>\n",
              "      <td>19.70</td>\n",
              "      <td></td>\n",
              "      <td>No</td>\n",
              "    </tr>\n",
              "    <tr>\n",
              "      <th>6670</th>\n",
              "      <td>Female</td>\n",
              "      <td>0</td>\n",
              "      <td>Yes</td>\n",
              "      <td>Yes</td>\n",
              "      <td>0</td>\n",
              "      <td>Yes</td>\n",
              "      <td>Yes</td>\n",
              "      <td>DSL</td>\n",
              "      <td>No</td>\n",
              "      <td>Yes</td>\n",
              "      <td>Yes</td>\n",
              "      <td>Yes</td>\n",
              "      <td>Yes</td>\n",
              "      <td>No</td>\n",
              "      <td>Two year</td>\n",
              "      <td>No</td>\n",
              "      <td>Mailed check</td>\n",
              "      <td>73.35</td>\n",
              "      <td></td>\n",
              "      <td>No</td>\n",
              "    </tr>\n",
              "    <tr>\n",
              "      <th>6754</th>\n",
              "      <td>Male</td>\n",
              "      <td>0</td>\n",
              "      <td>No</td>\n",
              "      <td>Yes</td>\n",
              "      <td>0</td>\n",
              "      <td>Yes</td>\n",
              "      <td>Yes</td>\n",
              "      <td>DSL</td>\n",
              "      <td>Yes</td>\n",
              "      <td>Yes</td>\n",
              "      <td>No</td>\n",
              "      <td>Yes</td>\n",
              "      <td>No</td>\n",
              "      <td>No</td>\n",
              "      <td>Two year</td>\n",
              "      <td>Yes</td>\n",
              "      <td>Bank transfer (automatic)</td>\n",
              "      <td>61.90</td>\n",
              "      <td></td>\n",
              "      <td>No</td>\n",
              "    </tr>\n",
              "  </tbody>\n",
              "</table>\n",
              "</div>\n",
              "      <button class=\"colab-df-convert\" onclick=\"convertToInteractive('df-ff9e353d-d008-4f4b-ab6c-59b822523727')\"\n",
              "              title=\"Convert this dataframe to an interactive table.\"\n",
              "              style=\"display:none;\">\n",
              "        \n",
              "  <svg xmlns=\"http://www.w3.org/2000/svg\" height=\"24px\"viewBox=\"0 0 24 24\"\n",
              "       width=\"24px\">\n",
              "    <path d=\"M0 0h24v24H0V0z\" fill=\"none\"/>\n",
              "    <path d=\"M18.56 5.44l.94 2.06.94-2.06 2.06-.94-2.06-.94-.94-2.06-.94 2.06-2.06.94zm-11 1L8.5 8.5l.94-2.06 2.06-.94-2.06-.94L8.5 2.5l-.94 2.06-2.06.94zm10 10l.94 2.06.94-2.06 2.06-.94-2.06-.94-.94-2.06-.94 2.06-2.06.94z\"/><path d=\"M17.41 7.96l-1.37-1.37c-.4-.4-.92-.59-1.43-.59-.52 0-1.04.2-1.43.59L10.3 9.45l-7.72 7.72c-.78.78-.78 2.05 0 2.83L4 21.41c.39.39.9.59 1.41.59.51 0 1.02-.2 1.41-.59l7.78-7.78 2.81-2.81c.8-.78.8-2.07 0-2.86zM5.41 20L4 18.59l7.72-7.72 1.47 1.35L5.41 20z\"/>\n",
              "  </svg>\n",
              "      </button>\n",
              "      \n",
              "  <style>\n",
              "    .colab-df-container {\n",
              "      display:flex;\n",
              "      flex-wrap:wrap;\n",
              "      gap: 12px;\n",
              "    }\n",
              "\n",
              "    .colab-df-convert {\n",
              "      background-color: #E8F0FE;\n",
              "      border: none;\n",
              "      border-radius: 50%;\n",
              "      cursor: pointer;\n",
              "      display: none;\n",
              "      fill: #1967D2;\n",
              "      height: 32px;\n",
              "      padding: 0 0 0 0;\n",
              "      width: 32px;\n",
              "    }\n",
              "\n",
              "    .colab-df-convert:hover {\n",
              "      background-color: #E2EBFA;\n",
              "      box-shadow: 0px 1px 2px rgba(60, 64, 67, 0.3), 0px 1px 3px 1px rgba(60, 64, 67, 0.15);\n",
              "      fill: #174EA6;\n",
              "    }\n",
              "\n",
              "    [theme=dark] .colab-df-convert {\n",
              "      background-color: #3B4455;\n",
              "      fill: #D2E3FC;\n",
              "    }\n",
              "\n",
              "    [theme=dark] .colab-df-convert:hover {\n",
              "      background-color: #434B5C;\n",
              "      box-shadow: 0px 1px 3px 1px rgba(0, 0, 0, 0.15);\n",
              "      filter: drop-shadow(0px 1px 2px rgba(0, 0, 0, 0.3));\n",
              "      fill: #FFFFFF;\n",
              "    }\n",
              "  </style>\n",
              "\n",
              "      <script>\n",
              "        const buttonEl =\n",
              "          document.querySelector('#df-ff9e353d-d008-4f4b-ab6c-59b822523727 button.colab-df-convert');\n",
              "        buttonEl.style.display =\n",
              "          google.colab.kernel.accessAllowed ? 'block' : 'none';\n",
              "\n",
              "        async function convertToInteractive(key) {\n",
              "          const element = document.querySelector('#df-ff9e353d-d008-4f4b-ab6c-59b822523727');\n",
              "          const dataTable =\n",
              "            await google.colab.kernel.invokeFunction('convertToInteractive',\n",
              "                                                     [key], {});\n",
              "          if (!dataTable) return;\n",
              "\n",
              "          const docLinkHtml = 'Like what you see? Visit the ' +\n",
              "            '<a target=\"_blank\" href=https://colab.research.google.com/notebooks/data_table.ipynb>data table notebook</a>'\n",
              "            + ' to learn more about interactive tables.';\n",
              "          element.innerHTML = '';\n",
              "          dataTable['output_type'] = 'display_data';\n",
              "          await google.colab.output.renderOutput(dataTable, element);\n",
              "          const docLink = document.createElement('div');\n",
              "          docLink.innerHTML = docLinkHtml;\n",
              "          element.appendChild(docLink);\n",
              "        }\n",
              "      </script>\n",
              "    </div>\n",
              "  </div>\n",
              "  "
            ]
          },
          "metadata": {},
          "execution_count": 8
        }
      ]
    },
    {
      "cell_type": "code",
      "source": [
        "# lets check for row 488\n",
        "df.iloc[488].TotalCharges"
      ],
      "metadata": {
        "colab": {
          "base_uri": "https://localhost:8080/",
          "height": 36
        },
        "id": "Pam1T8OByFlg",
        "outputId": "efcae9e2-96ea-4023-cbb8-4f62f52bbde2"
      },
      "execution_count": 9,
      "outputs": [
        {
          "output_type": "execute_result",
          "data": {
            "text/plain": [
              "' '"
            ],
            "application/vnd.google.colaboratory.intrinsic+json": {
              "type": "string"
            }
          },
          "metadata": {},
          "execution_count": 9
        }
      ]
    },
    {
      "cell_type": "code",
      "source": [
        "# lets check for how many rows we are getting this blank\n",
        "df[df.TotalCharges==' '].shape"
      ],
      "metadata": {
        "colab": {
          "base_uri": "https://localhost:8080/"
        },
        "id": "STUbEcybyPba",
        "outputId": "5425b969-2d05-4bc9-f0e4-78ffc9d0448c"
      },
      "execution_count": 10,
      "outputs": [
        {
          "output_type": "execute_result",
          "data": {
            "text/plain": [
              "(11, 20)"
            ]
          },
          "metadata": {},
          "execution_count": 10
        }
      ]
    },
    {
      "cell_type": "markdown",
      "source": [
        "as number of rows where this blank field are present seems small. lets drop this rows"
      ],
      "metadata": {
        "id": "jeiklMiUydjd"
      }
    },
    {
      "cell_type": "code",
      "source": [
        "# drop blank rows and save it in new df\n",
        "df1 = df[df.TotalCharges!=' ']\n",
        "df1.shape"
      ],
      "metadata": {
        "colab": {
          "base_uri": "https://localhost:8080/"
        },
        "id": "BtMRhJzgybdT",
        "outputId": "3b3930b8-e865-476a-bf01-51cdc10da8d5"
      },
      "execution_count": 11,
      "outputs": [
        {
          "output_type": "execute_result",
          "data": {
            "text/plain": [
              "(7032, 20)"
            ]
          },
          "metadata": {},
          "execution_count": 11
        }
      ]
    },
    {
      "cell_type": "code",
      "source": [
        "df1.TotalCharges = pd.to_numeric(df1.TotalCharges)\n",
        "df1.dtypes"
      ],
      "metadata": {
        "colab": {
          "base_uri": "https://localhost:8080/"
        },
        "id": "Ni_MvgZyyu5E",
        "outputId": "ff8cd627-8c58-49fc-8746-d13775ccfd80"
      },
      "execution_count": 12,
      "outputs": [
        {
          "output_type": "stream",
          "name": "stderr",
          "text": [
            "/usr/local/lib/python3.7/dist-packages/pandas/core/generic.py:5516: SettingWithCopyWarning: \n",
            "A value is trying to be set on a copy of a slice from a DataFrame.\n",
            "Try using .loc[row_indexer,col_indexer] = value instead\n",
            "\n",
            "See the caveats in the documentation: https://pandas.pydata.org/pandas-docs/stable/user_guide/indexing.html#returning-a-view-versus-a-copy\n",
            "  self[name] = value\n"
          ]
        },
        {
          "output_type": "execute_result",
          "data": {
            "text/plain": [
              "gender               object\n",
              "SeniorCitizen         int64\n",
              "Partner              object\n",
              "Dependents           object\n",
              "tenure                int64\n",
              "PhoneService         object\n",
              "MultipleLines        object\n",
              "InternetService      object\n",
              "OnlineSecurity       object\n",
              "OnlineBackup         object\n",
              "DeviceProtection     object\n",
              "TechSupport          object\n",
              "StreamingTV          object\n",
              "StreamingMovies      object\n",
              "Contract             object\n",
              "PaperlessBilling     object\n",
              "PaymentMethod        object\n",
              "MonthlyCharges      float64\n",
              "TotalCharges        float64\n",
              "Churn                object\n",
              "dtype: object"
            ]
          },
          "metadata": {},
          "execution_count": 12
        }
      ]
    },
    {
      "cell_type": "markdown",
      "source": [
        "Now `TotalCharges` changed to float datatype<br>\n",
        "\n",
        "## Data Visualization"
      ],
      "metadata": {
        "id": "qp_poJlay8W-"
      }
    },
    {
      "cell_type": "code",
      "source": [
        "tenure_churn_no = df1[df1.Churn=='No'].tenure\n",
        "tenure_churn_yes = df1[df1.Churn=='Yes'].tenure\n",
        "\n",
        "plt.xlabel(\"tenure\")\n",
        "plt.ylabel(\"Number Of Customers\")\n",
        "plt.title(\"Customer Churn Prediction Visualiztion\")\n",
        "\n",
        "plt.hist([tenure_churn_yes, tenure_churn_no], rwidth=0.95, color=['green','red'],label=['Churn=Yes','Churn=No']);\n",
        "plt.legend();"
      ],
      "metadata": {
        "colab": {
          "base_uri": "https://localhost:8080/",
          "height": 388
        },
        "id": "zD-tC18_yxwS",
        "outputId": "525815a8-ed4e-4773-a3f2-383bf16c8f11"
      },
      "execution_count": 13,
      "outputs": [
        {
          "output_type": "stream",
          "name": "stderr",
          "text": [
            "/usr/local/lib/python3.7/dist-packages/numpy/core/fromnumeric.py:3208: VisibleDeprecationWarning: Creating an ndarray from ragged nested sequences (which is a list-or-tuple of lists-or-tuples-or ndarrays with different lengths or shapes) is deprecated. If you meant to do this, you must specify 'dtype=object' when creating the ndarray.\n",
            "  return asarray(a).size\n",
            "/usr/local/lib/python3.7/dist-packages/matplotlib/cbook/__init__.py:1376: VisibleDeprecationWarning: Creating an ndarray from ragged nested sequences (which is a list-or-tuple of lists-or-tuples-or ndarrays with different lengths or shapes) is deprecated. If you meant to do this, you must specify 'dtype=object' when creating the ndarray.\n",
            "  X = np.atleast_1d(X.T if isinstance(X, np.ndarray) else np.asarray(X))\n"
          ]
        },
        {
          "output_type": "display_data",
          "data": {
            "text/plain": [
              "<Figure size 432x288 with 1 Axes>"
            ],
            "image/png": "[encoded data removed]"
          },
          "metadata": {
            "needs_background": "light"
          }
        }
      ]
    },
    {
      "cell_type": "code",
      "source": [
        "mc_churn_no = df1[df1.Churn=='No'].MonthlyCharges      \n",
        "mc_churn_yes = df1[df1.Churn=='Yes'].MonthlyCharges      \n",
        "\n",
        "plt.xlabel(\"Monthly Charges\")\n",
        "plt.ylabel(\"Number Of Customers\")\n",
        "plt.title(\"Customer Churn Prediction Visualiztion\")\n",
        "plt.hist([mc_churn_yes, mc_churn_no], rwidth=0.95, color=['green','red'],label=['Churn=Yes','Churn=No'])\n",
        "plt.legend()"
      ],
      "metadata": {
        "colab": {
          "base_uri": "https://localhost:8080/",
          "height": 406
        },
        "id": "GgHEBXr7zbSV",
        "outputId": "50f0d1f6-bad3-4c36-8ec0-c51315c4c88a"
      },
      "execution_count": 14,
      "outputs": [
        {
          "output_type": "stream",
          "name": "stderr",
          "text": [
            "/usr/local/lib/python3.7/dist-packages/numpy/core/fromnumeric.py:3208: VisibleDeprecationWarning: Creating an ndarray from ragged nested sequences (which is a list-or-tuple of lists-or-tuples-or ndarrays with different lengths or shapes) is deprecated. If you meant to do this, you must specify 'dtype=object' when creating the ndarray.\n",
            "  return asarray(a).size\n",
            "/usr/local/lib/python3.7/dist-packages/matplotlib/cbook/__init__.py:1376: VisibleDeprecationWarning: Creating an ndarray from ragged nested sequences (which is a list-or-tuple of lists-or-tuples-or ndarrays with different lengths or shapes) is deprecated. If you meant to do this, you must specify 'dtype=object' when creating the ndarray.\n",
            "  X = np.atleast_1d(X.T if isinstance(X, np.ndarray) else np.asarray(X))\n"
          ]
        },
        {
          "output_type": "execute_result",
          "data": {
            "text/plain": [
              "<matplotlib.legend.Legend at 0x7f97215c3a50>"
            ]
          },
          "metadata": {},
          "execution_count": 14
        },
        {
          "output_type": "display_data",
          "data": {
            "text/plain": [
              "<Figure size 432x288 with 1 Axes>"
            ],
            "image/png": "[encoded data removed]"
          },
          "metadata": {
            "needs_background": "light"
          }
        }
      ]
    },
    {
      "cell_type": "markdown",
      "source": [
        "Many of the columns are yes, no etc. Let's print unique values in object columns to see data values"
      ],
      "metadata": {
        "id": "z5zNMomNzyb2"
      }
    },
    {
      "cell_type": "code",
      "source": [
        "def print_unique_col_values(df):\n",
        "       for column in df:\n",
        "            if df[column].dtypes=='object':\n",
        "                print(f'{column}: {df[column].unique()}') "
      ],
      "metadata": {
        "id": "KcveT6azzq3u"
      },
      "execution_count": 15,
      "outputs": []
    },
    {
      "cell_type": "code",
      "source": [
        "print_unique_col_values(df1)"
      ],
      "metadata": {
        "colab": {
          "base_uri": "https://localhost:8080/"
        },
        "id": "MTQH9LYI00bw",
        "outputId": "aef4aa50-d517-4d67-e2f0-25136356c75a"
      },
      "execution_count": 16,
      "outputs": [
        {
          "output_type": "stream",
          "name": "stdout",
          "text": [
            "gender: ['Female' 'Male']\n",
            "Partner: ['Yes' 'No']\n",
            "Dependents: ['No' 'Yes']\n",
            "PhoneService: ['No' 'Yes']\n",
            "MultipleLines: ['No phone service' 'No' 'Yes']\n",
            "InternetService: ['DSL' 'Fiber optic' 'No']\n",
            "OnlineSecurity: ['No' 'Yes' 'No internet service']\n",
            "OnlineBackup: ['Yes' 'No' 'No internet service']\n",
            "DeviceProtection: ['No' 'Yes' 'No internet service']\n",
            "TechSupport: ['No' 'Yes' 'No internet service']\n",
            "StreamingTV: ['No' 'Yes' 'No internet service']\n",
            "StreamingMovies: ['No' 'Yes' 'No internet service']\n",
            "Contract: ['Month-to-month' 'One year' 'Two year']\n",
            "PaperlessBilling: ['Yes' 'No']\n",
            "PaymentMethod: ['Electronic check' 'Mailed check' 'Bank transfer (automatic)'\n",
            " 'Credit card (automatic)']\n",
            "Churn: ['No' 'Yes']\n"
          ]
        }
      ]
    },
    {
      "cell_type": "markdown",
      "source": [
        "Some of the columns have no internet service or no phone service, that can be replaced with a simple No"
      ],
      "metadata": {
        "id": "KyXQqaEN1ByX"
      }
    },
    {
      "cell_type": "code",
      "source": [
        "df1.replace('No phone service','No', inplace=True)\n",
        "df1.replace('No internet service','No', inplace=True)"
      ],
      "metadata": {
        "colab": {
          "base_uri": "https://localhost:8080/"
        },
        "id": "lYcM2ApN04UR",
        "outputId": "17506618-e49f-4745-8e9c-46cd749398ed"
      },
      "execution_count": 17,
      "outputs": [
        {
          "output_type": "stream",
          "name": "stderr",
          "text": [
            "/usr/local/lib/python3.7/dist-packages/pandas/core/frame.py:5244: SettingWithCopyWarning: \n",
            "A value is trying to be set on a copy of a slice from a DataFrame\n",
            "\n",
            "See the caveats in the documentation: https://pandas.pydata.org/pandas-docs/stable/user_guide/indexing.html#returning-a-view-versus-a-copy\n",
            "  method=method,\n"
          ]
        }
      ]
    },
    {
      "cell_type": "code",
      "source": [
        "# lets check again\n",
        "print_unique_col_values(df1)"
      ],
      "metadata": {
        "colab": {
          "base_uri": "https://localhost:8080/"
        },
        "id": "JoAzBUR11TuE",
        "outputId": "202cc072-6e29-4433-c229-1f8d03c6c6f4"
      },
      "execution_count": 18,
      "outputs": [
        {
          "output_type": "stream",
          "name": "stdout",
          "text": [
            "gender: ['Female' 'Male']\n",
            "Partner: ['Yes' 'No']\n",
            "Dependents: ['No' 'Yes']\n",
            "PhoneService: ['No' 'Yes']\n",
            "MultipleLines: ['No' 'Yes']\n",
            "InternetService: ['DSL' 'Fiber optic' 'No']\n",
            "OnlineSecurity: ['No' 'Yes']\n",
            "OnlineBackup: ['Yes' 'No']\n",
            "DeviceProtection: ['No' 'Yes']\n",
            "TechSupport: ['No' 'Yes']\n",
            "StreamingTV: ['No' 'Yes']\n",
            "StreamingMovies: ['No' 'Yes']\n",
            "Contract: ['Month-to-month' 'One year' 'Two year']\n",
            "PaperlessBilling: ['Yes' 'No']\n",
            "PaymentMethod: ['Electronic check' 'Mailed check' 'Bank transfer (automatic)'\n",
            " 'Credit card (automatic)']\n",
            "Churn: ['No' 'Yes']\n"
          ]
        }
      ]
    },
    {
      "cell_type": "code",
      "source": [
        "# We can convert yes no to 1 and 0\n",
        "yes_no_col = ['Partner', 'PhoneService','MultipleLines', 'OnlineSecurity', 'OnlineBackup', 'DeviceProtection', 'TechSupport', 'Dependents', 'StreamingTV', 'StreamingMovies', 'PaperlessBilling', 'Churn']\n",
        "\n",
        "# loop with replace function\n",
        "for i in yes_no_col:\n",
        "  df1[i].replace({'Yes':1,'No':0}, inplace=True )"
      ],
      "metadata": {
        "colab": {
          "base_uri": "https://localhost:8080/"
        },
        "id": "iqEsvSww1ek5",
        "outputId": "92b89774-ca31-416d-e7fa-e0933a56a7c5"
      },
      "execution_count": 19,
      "outputs": [
        {
          "output_type": "stream",
          "name": "stderr",
          "text": [
            "/usr/local/lib/python3.7/dist-packages/pandas/core/generic.py:6619: SettingWithCopyWarning: \n",
            "A value is trying to be set on a copy of a slice from a DataFrame\n",
            "\n",
            "See the caveats in the documentation: https://pandas.pydata.org/pandas-docs/stable/user_guide/indexing.html#returning-a-view-versus-a-copy\n",
            "  return self._update_inplace(result)\n"
          ]
        }
      ]
    },
    {
      "cell_type": "code",
      "source": [
        "for col in df1:\n",
        "    print(f'{col}: {df1[col].unique()}') "
      ],
      "metadata": {
        "colab": {
          "base_uri": "https://localhost:8080/"
        },
        "id": "449SWINA2enI",
        "outputId": "68f42465-01cc-4b7b-e68b-08e8ad72f220"
      },
      "execution_count": 20,
      "outputs": [
        {
          "output_type": "stream",
          "name": "stdout",
          "text": [
            "gender: ['Female' 'Male']\n",
            "SeniorCitizen: [0 1]\n",
            "Partner: [1 0]\n",
            "Dependents: [0 1]\n",
            "tenure: [ 1 34  2 45  8 22 10 28 62 13 16 58 49 25 69 52 71 21 12 30 47 72 17 27\n",
            "  5 46 11 70 63 43 15 60 18 66  9  3 31 50 64 56  7 42 35 48 29 65 38 68\n",
            " 32 55 37 36 41  6  4 33 67 23 57 61 14 20 53 40 59 24 44 19 54 51 26 39]\n",
            "PhoneService: [0 1]\n",
            "MultipleLines: [0 1]\n",
            "InternetService: ['DSL' 'Fiber optic' 'No']\n",
            "OnlineSecurity: [0 1]\n",
            "OnlineBackup: [1 0]\n",
            "DeviceProtection: [0 1]\n",
            "TechSupport: [0 1]\n",
            "StreamingTV: [0 1]\n",
            "StreamingMovies: [0 1]\n",
            "Contract: ['Month-to-month' 'One year' 'Two year']\n",
            "PaperlessBilling: [1 0]\n",
            "PaymentMethod: ['Electronic check' 'Mailed check' 'Bank transfer (automatic)'\n",
            " 'Credit card (automatic)']\n",
            "MonthlyCharges: [29.85 56.95 53.85 ... 63.1  44.2  78.7 ]\n",
            "TotalCharges: [  29.85 1889.5   108.15 ...  346.45  306.6  6844.5 ]\n",
            "Churn: [0 1]\n"
          ]
        }
      ]
    },
    {
      "cell_type": "code",
      "source": [
        "# lets encode for gender\n",
        "# female as 1, male as 0\n",
        "df1['gender'].replace({'Female':1,'Male':0},inplace=True)\n",
        "df1.gender.unique()"
      ],
      "metadata": {
        "colab": {
          "base_uri": "https://localhost:8080/"
        },
        "id": "yX0GFZgw2kCQ",
        "outputId": "e5db8903-0e7e-48cb-c484-d09894818feb"
      },
      "execution_count": 21,
      "outputs": [
        {
          "output_type": "stream",
          "name": "stderr",
          "text": [
            "/usr/local/lib/python3.7/dist-packages/pandas/core/generic.py:6619: SettingWithCopyWarning: \n",
            "A value is trying to be set on a copy of a slice from a DataFrame\n",
            "\n",
            "See the caveats in the documentation: https://pandas.pydata.org/pandas-docs/stable/user_guide/indexing.html#returning-a-view-versus-a-copy\n",
            "  return self._update_inplace(result)\n"
          ]
        },
        {
          "output_type": "execute_result",
          "data": {
            "text/plain": [
              "array([1, 0])"
            ]
          },
          "metadata": {},
          "execution_count": 21
        }
      ]
    },
    {
      "cell_type": "markdown",
      "source": [
        "### One Hot Encoding for Categorical columns\n"
      ],
      "metadata": {
        "id": "XkeG-RMA37uX"
      }
    },
    {
      "cell_type": "code",
      "source": [
        "print_unique_col_values(df1)"
      ],
      "metadata": {
        "colab": {
          "base_uri": "https://localhost:8080/"
        },
        "id": "sEk5qtzQ2yO-",
        "outputId": "cf0e21f2-4a45-498f-81f7-247add6901aa"
      },
      "execution_count": 22,
      "outputs": [
        {
          "output_type": "stream",
          "name": "stdout",
          "text": [
            "InternetService: ['DSL' 'Fiber optic' 'No']\n",
            "Contract: ['Month-to-month' 'One year' 'Two year']\n",
            "PaymentMethod: ['Electronic check' 'Mailed check' 'Bank transfer (automatic)'\n",
            " 'Credit card (automatic)']\n"
          ]
        }
      ]
    },
    {
      "cell_type": "code",
      "source": [
        "df2 = pd.get_dummies(data=df1, columns=['InternetService','Contract','PaymentMethod'])\n",
        "df2.columns"
      ],
      "metadata": {
        "colab": {
          "base_uri": "https://localhost:8080/"
        },
        "id": "BBucHbRb4EQx",
        "outputId": "3ee0a655-ca04-4cb0-8eca-626720f33e0a"
      },
      "execution_count": 23,
      "outputs": [
        {
          "output_type": "execute_result",
          "data": {
            "text/plain": [
              "Index(['gender', 'SeniorCitizen', 'Partner', 'Dependents', 'tenure',\n",
              "       'PhoneService', 'MultipleLines', 'OnlineSecurity', 'OnlineBackup',\n",
              "       'DeviceProtection', 'TechSupport', 'StreamingTV', 'StreamingMovies',\n",
              "       'PaperlessBilling', 'MonthlyCharges', 'TotalCharges', 'Churn',\n",
              "       'InternetService_DSL', 'InternetService_Fiber optic',\n",
              "       'InternetService_No', 'Contract_Month-to-month', 'Contract_One year',\n",
              "       'Contract_Two year', 'PaymentMethod_Bank transfer (automatic)',\n",
              "       'PaymentMethod_Credit card (automatic)',\n",
              "       'PaymentMethod_Electronic check', 'PaymentMethod_Mailed check'],\n",
              "      dtype='object')"
            ]
          },
          "metadata": {},
          "execution_count": 23
        }
      ]
    },
    {
      "cell_type": "code",
      "source": [
        "df2.describe().T"
      ],
      "metadata": {
        "colab": {
          "base_uri": "https://localhost:8080/",
          "height": 896
        },
        "id": "rubTMxTl4UWL",
        "outputId": "1738a6cf-ed45-449d-d2af-dd73da499602"
      },
      "execution_count": 24,
      "outputs": [
        {
          "output_type": "execute_result",
          "data": {
            "text/plain": [
              "                                          count         mean          std  \\\n",
              "gender                                   7032.0     0.495307     0.500014   \n",
              "SeniorCitizen                            7032.0     0.162400     0.368844   \n",
              "Partner                                  7032.0     0.482509     0.499729   \n",
              "Dependents                               7032.0     0.298493     0.457629   \n",
              "tenure                                   7032.0    32.421786    24.545260   \n",
              "PhoneService                             7032.0     0.903299     0.295571   \n",
              "MultipleLines                            7032.0     0.421928     0.493902   \n",
              "OnlineSecurity                           7032.0     0.286547     0.452180   \n",
              "OnlineBackup                             7032.0     0.344852     0.475354   \n",
              "DeviceProtection                         7032.0     0.343857     0.475028   \n",
              "TechSupport                              7032.0     0.290102     0.453842   \n",
              "StreamingTV                              7032.0     0.384386     0.486484   \n",
              "StreamingMovies                          7032.0     0.388367     0.487414   \n",
              "PaperlessBilling                         7032.0     0.592719     0.491363   \n",
              "MonthlyCharges                           7032.0    64.798208    30.085974   \n",
              "TotalCharges                             7032.0  2283.300441  2266.771362   \n",
              "Churn                                    7032.0     0.265785     0.441782   \n",
              "InternetService_DSL                      7032.0     0.343572     0.474934   \n",
              "InternetService_Fiber optic              7032.0     0.440273     0.496455   \n",
              "InternetService_No                       7032.0     0.216155     0.411650   \n",
              "Contract_Month-to-month                  7032.0     0.551052     0.497422   \n",
              "Contract_One year                        7032.0     0.209329     0.406858   \n",
              "Contract_Two year                        7032.0     0.239619     0.426881   \n",
              "PaymentMethod_Bank transfer (automatic)  7032.0     0.219283     0.413790   \n",
              "PaymentMethod_Credit card (automatic)    7032.0     0.216297     0.411748   \n",
              "PaymentMethod_Electronic check           7032.0     0.336320     0.472483   \n",
              "PaymentMethod_Mailed check               7032.0     0.228100     0.419637   \n",
              "\n",
              "                                           min       25%       50%        75%  \\\n",
              "gender                                    0.00    0.0000     0.000     1.0000   \n",
              "SeniorCitizen                             0.00    0.0000     0.000     0.0000   \n",
              "Partner                                   0.00    0.0000     0.000     1.0000   \n",
              "Dependents                                0.00    0.0000     0.000     1.0000   \n",
              "tenure                                    1.00    9.0000    29.000    55.0000   \n",
              "PhoneService                              0.00    1.0000     1.000     1.0000   \n",
              "MultipleLines                             0.00    0.0000     0.000     1.0000   \n",
              "OnlineSecurity                            0.00    0.0000     0.000     1.0000   \n",
              "OnlineBackup                              0.00    0.0000     0.000     1.0000   \n",
              "DeviceProtection                          0.00    0.0000     0.000     1.0000   \n",
              "TechSupport                               0.00    0.0000     0.000     1.0000   \n",
              "StreamingTV                               0.00    0.0000     0.000     1.0000   \n",
              "StreamingMovies                           0.00    0.0000     0.000     1.0000   \n",
              "PaperlessBilling                          0.00    0.0000     1.000     1.0000   \n",
              "MonthlyCharges                           18.25   35.5875    70.350    89.8625   \n",
              "TotalCharges                             18.80  401.4500  1397.475  3794.7375   \n",
              "Churn                                     0.00    0.0000     0.000     1.0000   \n",
              "InternetService_DSL                       0.00    0.0000     0.000     1.0000   \n",
              "InternetService_Fiber optic               0.00    0.0000     0.000     1.0000   \n",
              "InternetService_No                        0.00    0.0000     0.000     0.0000   \n",
              "Contract_Month-to-month                   0.00    0.0000     1.000     1.0000   \n",
              "Contract_One year                         0.00    0.0000     0.000     0.0000   \n",
              "Contract_Two year                         0.00    0.0000     0.000     0.0000   \n",
              "PaymentMethod_Bank transfer (automatic)   0.00    0.0000     0.000     0.0000   \n",
              "PaymentMethod_Credit card (automatic)     0.00    0.0000     0.000     0.0000   \n",
              "PaymentMethod_Electronic check            0.00    0.0000     0.000     1.0000   \n",
              "PaymentMethod_Mailed check                0.00    0.0000     0.000     0.0000   \n",
              "\n",
              "                                             max  \n",
              "gender                                      1.00  \n",
              "SeniorCitizen                               1.00  \n",
              "Partner                                     1.00  \n",
              "Dependents                                  1.00  \n",
              "tenure                                     72.00  \n",
              "PhoneService                                1.00  \n",
              "MultipleLines                               1.00  \n",
              "OnlineSecurity                              1.00  \n",
              "OnlineBackup                                1.00  \n",
              "DeviceProtection                            1.00  \n",
              "TechSupport                                 1.00  \n",
              "StreamingTV                                 1.00  \n",
              "StreamingMovies                             1.00  \n",
              "PaperlessBilling                            1.00  \n",
              "MonthlyCharges                            118.75  \n",
              "TotalCharges                             8684.80  \n",
              "Churn                                       1.00  \n",
              "InternetService_DSL                         1.00  \n",
              "InternetService_Fiber optic                 1.00  \n",
              "InternetService_No                          1.00  \n",
              "Contract_Month-to-month                     1.00  \n",
              "Contract_One year                           1.00  \n",
              "Contract_Two year                           1.00  \n",
              "PaymentMethod_Bank transfer (automatic)     1.00  \n",
              "PaymentMethod_Credit card (automatic)       1.00  \n",
              "PaymentMethod_Electronic check              1.00  \n",
              "PaymentMethod_Mailed check                  1.00  "
            ],
            "text/html": [
              "\n",
              "  <div id=\"df-c63a43ea-8a15-475f-9248-fb9bbba652ae\">\n",
              "    <div class=\"colab-df-container\">\n",
              "      <div>\n",
              "<style scoped>\n",
              "    .dataframe tbody tr th:only-of-type {\n",
              "        vertical-align: middle;\n",
              "    }\n",
              "\n",
              "    .dataframe tbody tr th {\n",
              "        vertical-align: top;\n",
              "    }\n",
              "\n",
              "    .dataframe thead th {\n",
              "        text-align: right;\n",
              "    }\n",
              "</style>\n",
              "<table border=\"1\" class=\"dataframe\">\n",
              "  <thead>\n",
              "    <tr style=\"text-align: right;\">\n",
              "      <th></th>\n",
              "      <th>count</th>\n",
              "      <th>mean</th>\n",
              "      <th>std</th>\n",
              "      <th>min</th>\n",
              "      <th>25%</th>\n",
              "      <th>50%</th>\n",
              "      <th>75%</th>\n",
              "      <th>max</th>\n",
              "    </tr>\n",
              "  </thead>\n",
              "  <tbody>\n",
              "    <tr>\n",
              "      <th>gender</th>\n",
              "      <td>7032.0</td>\n",
              "      <td>0.495307</td>\n",
              "      <td>0.500014</td>\n",
              "      <td>0.00</td>\n",
              "      <td>0.0000</td>\n",
              "      <td>0.000</td>\n",
              "      <td>1.0000</td>\n",
              "      <td>1.00</td>\n",
              "    </tr>\n",
              "    <tr>\n",
              "      <th>SeniorCitizen</th>\n",
              "      <td>7032.0</td>\n",
              "      <td>0.162400</td>\n",
              "      <td>0.368844</td>\n",
              "      <td>0.00</td>\n",
              "      <td>0.0000</td>\n",
              "      <td>0.000</td>\n",
              "      <td>0.0000</td>\n",
              "      <td>1.00</td>\n",
              "    </tr>\n",
              "    <tr>\n",
              "      <th>Partner</th>\n",
              "      <td>7032.0</td>\n",
              "      <td>0.482509</td>\n",
              "      <td>0.499729</td>\n",
              "      <td>0.00</td>\n",
              "      <td>0.0000</td>\n",
              "      <td>0.000</td>\n",
              "      <td>1.0000</td>\n",
              "      <td>1.00</td>\n",
              "    </tr>\n",
              "    <tr>\n",
              "      <th>Dependents</th>\n",
              "      <td>7032.0</td>\n",
              "      <td>0.298493</td>\n",
              "      <td>0.457629</td>\n",
              "      <td>0.00</td>\n",
              "      <td>0.0000</td>\n",
              "      <td>0.000</td>\n",
              "      <td>1.0000</td>\n",
              "      <td>1.00</td>\n",
              "    </tr>\n",
              "    <tr>\n",
              "      <th>tenure</th>\n",
              "      <td>7032.0</td>\n",
              "      <td>32.421786</td>\n",
              "      <td>24.545260</td>\n",
              "      <td>1.00</td>\n",
              "      <td>9.0000</td>\n",
              "      <td>29.000</td>\n",
              "      <td>55.0000</td>\n",
              "      <td>72.00</td>\n",
              "    </tr>\n",
              "    <tr>\n",
              "      <th>PhoneService</th>\n",
              "      <td>7032.0</td>\n",
              "      <td>0.903299</td>\n",
              "      <td>0.295571</td>\n",
              "      <td>0.00</td>\n",
              "      <td>1.0000</td>\n",
              "      <td>1.000</td>\n",
              "      <td>1.0000</td>\n",
              "      <td>1.00</td>\n",
              "    </tr>\n",
              "    <tr>\n",
              "      <th>MultipleLines</th>\n",
              "      <td>7032.0</td>\n",
              "      <td>0.421928</td>\n",
              "      <td>0.493902</td>\n",
              "      <td>0.00</td>\n",
              "      <td>0.0000</td>\n",
              "      <td>0.000</td>\n",
              "      <td>1.0000</td>\n",
              "      <td>1.00</td>\n",
              "    </tr>\n",
              "    <tr>\n",
              "      <th>OnlineSecurity</th>\n",
              "      <td>7032.0</td>\n",
              "      <td>0.286547</td>\n",
              "      <td>0.452180</td>\n",
              "      <td>0.00</td>\n",
              "      <td>0.0000</td>\n",
              "      <td>0.000</td>\n",
              "      <td>1.0000</td>\n",
              "      <td>1.00</td>\n",
              "    </tr>\n",
              "    <tr>\n",
              "      <th>OnlineBackup</th>\n",
              "      <td>7032.0</td>\n",
              "      <td>0.344852</td>\n",
              "      <td>0.475354</td>\n",
              "      <td>0.00</td>\n",
              "      <td>0.0000</td>\n",
              "      <td>0.000</td>\n",
              "      <td>1.0000</td>\n",
              "      <td>1.00</td>\n",
              "    </tr>\n",
              "    <tr>\n",
              "      <th>DeviceProtection</th>\n",
              "      <td>7032.0</td>\n",
              "      <td>0.343857</td>\n",
              "      <td>0.475028</td>\n",
              "      <td>0.00</td>\n",
              "      <td>0.0000</td>\n",
              "      <td>0.000</td>\n",
              "      <td>1.0000</td>\n",
              "      <td>1.00</td>\n",
              "    </tr>\n",
              "    <tr>\n",
              "      <th>TechSupport</th>\n",
              "      <td>7032.0</td>\n",
              "      <td>0.290102</td>\n",
              "      <td>0.453842</td>\n",
              "      <td>0.00</td>\n",
              "      <td>0.0000</td>\n",
              "      <td>0.000</td>\n",
              "      <td>1.0000</td>\n",
              "      <td>1.00</td>\n",
              "    </tr>\n",
              "    <tr>\n",
              "      <th>StreamingTV</th>\n",
              "      <td>7032.0</td>\n",
              "      <td>0.384386</td>\n",
              "      <td>0.486484</td>\n",
              "      <td>0.00</td>\n",
              "      <td>0.0000</td>\n",
              "      <td>0.000</td>\n",
              "      <td>1.0000</td>\n",
              "      <td>1.00</td>\n",
              "    </tr>\n",
              "    <tr>\n",
              "      <th>StreamingMovies</th>\n",
              "      <td>7032.0</td>\n",
              "      <td>0.388367</td>\n",
              "      <td>0.487414</td>\n",
              "      <td>0.00</td>\n",
              "      <td>0.0000</td>\n",
              "      <td>0.000</td>\n",
              "      <td>1.0000</td>\n",
              "      <td>1.00</td>\n",
              "    </tr>\n",
              "    <tr>\n",
              "      <th>PaperlessBilling</th>\n",
              "      <td>7032.0</td>\n",
              "      <td>0.592719</td>\n",
              "      <td>0.491363</td>\n",
              "      <td>0.00</td>\n",
              "      <td>0.0000</td>\n",
              "      <td>1.000</td>\n",
              "      <td>1.0000</td>\n",
              "      <td>1.00</td>\n",
              "    </tr>\n",
              "    <tr>\n",
              "      <th>MonthlyCharges</th>\n",
              "      <td>7032.0</td>\n",
              "      <td>64.798208</td>\n",
              "      <td>30.085974</td>\n",
              "      <td>18.25</td>\n",
              "      <td>35.5875</td>\n",
              "      <td>70.350</td>\n",
              "      <td>89.8625</td>\n",
              "      <td>118.75</td>\n",
              "    </tr>\n",
              "    <tr>\n",
              "      <th>TotalCharges</th>\n",
              "      <td>7032.0</td>\n",
              "      <td>2283.300441</td>\n",
              "      <td>2266.771362</td>\n",
              "      <td>18.80</td>\n",
              "      <td>401.4500</td>\n",
              "      <td>1397.475</td>\n",
              "      <td>3794.7375</td>\n",
              "      <td>8684.80</td>\n",
              "    </tr>\n",
              "    <tr>\n",
              "      <th>Churn</th>\n",
              "      <td>7032.0</td>\n",
              "      <td>0.265785</td>\n",
              "      <td>0.441782</td>\n",
              "      <td>0.00</td>\n",
              "      <td>0.0000</td>\n",
              "      <td>0.000</td>\n",
              "      <td>1.0000</td>\n",
              "      <td>1.00</td>\n",
              "    </tr>\n",
              "    <tr>\n",
              "      <th>InternetService_DSL</th>\n",
              "      <td>7032.0</td>\n",
              "      <td>0.343572</td>\n",
              "      <td>0.474934</td>\n",
              "      <td>0.00</td>\n",
              "      <td>0.0000</td>\n",
              "      <td>0.000</td>\n",
              "      <td>1.0000</td>\n",
              "      <td>1.00</td>\n",
              "    </tr>\n",
              "    <tr>\n",
              "      <th>InternetService_Fiber optic</th>\n",
              "      <td>7032.0</td>\n",
              "      <td>0.440273</td>\n",
              "      <td>0.496455</td>\n",
              "      <td>0.00</td>\n",
              "      <td>0.0000</td>\n",
              "      <td>0.000</td>\n",
              "      <td>1.0000</td>\n",
              "      <td>1.00</td>\n",
              "    </tr>\n",
              "    <tr>\n",
              "      <th>InternetService_No</th>\n",
              "      <td>7032.0</td>\n",
              "      <td>0.216155</td>\n",
              "      <td>0.411650</td>\n",
              "      <td>0.00</td>\n",
              "      <td>0.0000</td>\n",
              "      <td>0.000</td>\n",
              "      <td>0.0000</td>\n",
              "      <td>1.00</td>\n",
              "    </tr>\n",
              "    <tr>\n",
              "      <th>Contract_Month-to-month</th>\n",
              "      <td>7032.0</td>\n",
              "      <td>0.551052</td>\n",
              "      <td>0.497422</td>\n",
              "      <td>0.00</td>\n",
              "      <td>0.0000</td>\n",
              "      <td>1.000</td>\n",
              "      <td>1.0000</td>\n",
              "      <td>1.00</td>\n",
              "    </tr>\n",
              "    <tr>\n",
              "      <th>Contract_One year</th>\n",
              "      <td>7032.0</td>\n",
              "      <td>0.209329</td>\n",
              "      <td>0.406858</td>\n",
              "      <td>0.00</td>\n",
              "      <td>0.0000</td>\n",
              "      <td>0.000</td>\n",
              "      <td>0.0000</td>\n",
              "      <td>1.00</td>\n",
              "    </tr>\n",
              "    <tr>\n",
              "      <th>Contract_Two year</th>\n",
              "      <td>7032.0</td>\n",
              "      <td>0.239619</td>\n",
              "      <td>0.426881</td>\n",
              "      <td>0.00</td>\n",
              "      <td>0.0000</td>\n",
              "      <td>0.000</td>\n",
              "      <td>0.0000</td>\n",
              "      <td>1.00</td>\n",
              "    </tr>\n",
              "    <tr>\n",
              "      <th>PaymentMethod_Bank transfer (automatic)</th>\n",
              "      <td>7032.0</td>\n",
              "      <td>0.219283</td>\n",
              "      <td>0.413790</td>\n",
              "      <td>0.00</td>\n",
              "      <td>0.0000</td>\n",
              "      <td>0.000</td>\n",
              "      <td>0.0000</td>\n",
              "      <td>1.00</td>\n",
              "    </tr>\n",
              "    <tr>\n",
              "      <th>PaymentMethod_Credit card (automatic)</th>\n",
              "      <td>7032.0</td>\n",
              "      <td>0.216297</td>\n",
              "      <td>0.411748</td>\n",
              "      <td>0.00</td>\n",
              "      <td>0.0000</td>\n",
              "      <td>0.000</td>\n",
              "      <td>0.0000</td>\n",
              "      <td>1.00</td>\n",
              "    </tr>\n",
              "    <tr>\n",
              "      <th>PaymentMethod_Electronic check</th>\n",
              "      <td>7032.0</td>\n",
              "      <td>0.336320</td>\n",
              "      <td>0.472483</td>\n",
              "      <td>0.00</td>\n",
              "      <td>0.0000</td>\n",
              "      <td>0.000</td>\n",
              "      <td>1.0000</td>\n",
              "      <td>1.00</td>\n",
              "    </tr>\n",
              "    <tr>\n",
              "      <th>PaymentMethod_Mailed check</th>\n",
              "      <td>7032.0</td>\n",
              "      <td>0.228100</td>\n",
              "      <td>0.419637</td>\n",
              "      <td>0.00</td>\n",
              "      <td>0.0000</td>\n",
              "      <td>0.000</td>\n",
              "      <td>0.0000</td>\n",
              "      <td>1.00</td>\n",
              "    </tr>\n",
              "  </tbody>\n",
              "</table>\n",
              "</div>\n",
              "      <button class=\"colab-df-convert\" onclick=\"convertToInteractive('df-c63a43ea-8a15-475f-9248-fb9bbba652ae')\"\n",
              "              title=\"Convert this dataframe to an interactive table.\"\n",
              "              style=\"display:none;\">\n",
              "        \n",
              "  <svg xmlns=\"http://www.w3.org/2000/svg\" height=\"24px\"viewBox=\"0 0 24 24\"\n",
              "       width=\"24px\">\n",
              "    <path d=\"M0 0h24v24H0V0z\" fill=\"none\"/>\n",
              "    <path d=\"M18.56 5.44l.94 2.06.94-2.06 2.06-.94-2.06-.94-.94-2.06-.94 2.06-2.06.94zm-11 1L8.5 8.5l.94-2.06 2.06-.94-2.06-.94L8.5 2.5l-.94 2.06-2.06.94zm10 10l.94 2.06.94-2.06 2.06-.94-2.06-.94-.94-2.06-.94 2.06-2.06.94z\"/><path d=\"M17.41 7.96l-1.37-1.37c-.4-.4-.92-.59-1.43-.59-.52 0-1.04.2-1.43.59L10.3 9.45l-7.72 7.72c-.78.78-.78 2.05 0 2.83L4 21.41c.39.39.9.59 1.41.59.51 0 1.02-.2 1.41-.59l7.78-7.78 2.81-2.81c.8-.78.8-2.07 0-2.86zM5.41 20L4 18.59l7.72-7.72 1.47 1.35L5.41 20z\"/>\n",
              "  </svg>\n",
              "      </button>\n",
              "      \n",
              "  <style>\n",
              "    .colab-df-container {\n",
              "      display:flex;\n",
              "      flex-wrap:wrap;\n",
              "      gap: 12px;\n",
              "    }\n",
              "\n",
              "    .colab-df-convert {\n",
              "      background-color: #E8F0FE;\n",
              "      border: none;\n",
              "      border-radius: 50%;\n",
              "      cursor: pointer;\n",
              "      display: none;\n",
              "      fill: #1967D2;\n",
              "      height: 32px;\n",
              "      padding: 0 0 0 0;\n",
              "      width: 32px;\n",
              "    }\n",
              "\n",
              "    .colab-df-convert:hover {\n",
              "      background-color: #E2EBFA;\n",
              "      box-shadow: 0px 1px 2px rgba(60, 64, 67, 0.3), 0px 1px 3px 1px rgba(60, 64, 67, 0.15);\n",
              "      fill: #174EA6;\n",
              "    }\n",
              "\n",
              "    [theme=dark] .colab-df-convert {\n",
              "      background-color: #3B4455;\n",
              "      fill: #D2E3FC;\n",
              "    }\n",
              "\n",
              "    [theme=dark] .colab-df-convert:hover {\n",
              "      background-color: #434B5C;\n",
              "      box-shadow: 0px 1px 3px 1px rgba(0, 0, 0, 0.15);\n",
              "      filter: drop-shadow(0px 1px 2px rgba(0, 0, 0, 0.3));\n",
              "      fill: #FFFFFF;\n",
              "    }\n",
              "  </style>\n",
              "\n",
              "      <script>\n",
              "        const buttonEl =\n",
              "          document.querySelector('#df-c63a43ea-8a15-475f-9248-fb9bbba652ae button.colab-df-convert');\n",
              "        buttonEl.style.display =\n",
              "          google.colab.kernel.accessAllowed ? 'block' : 'none';\n",
              "\n",
              "        async function convertToInteractive(key) {\n",
              "          const element = document.querySelector('#df-c63a43ea-8a15-475f-9248-fb9bbba652ae');\n",
              "          const dataTable =\n",
              "            await google.colab.kernel.invokeFunction('convertToInteractive',\n",
              "                                                     [key], {});\n",
              "          if (!dataTable) return;\n",
              "\n",
              "          const docLinkHtml = 'Like what you see? Visit the ' +\n",
              "            '<a target=\"_blank\" href=https://colab.research.google.com/notebooks/data_table.ipynb>data table notebook</a>'\n",
              "            + ' to learn more about interactive tables.';\n",
              "          element.innerHTML = '';\n",
              "          dataTable['output_type'] = 'display_data';\n",
              "          await google.colab.output.renderOutput(dataTable, element);\n",
              "          const docLink = document.createElement('div');\n",
              "          docLink.innerHTML = docLinkHtml;\n",
              "          element.appendChild(docLink);\n",
              "        }\n",
              "      </script>\n",
              "    </div>\n",
              "  </div>\n",
              "  "
            ]
          },
          "metadata": {},
          "execution_count": 24
        }
      ]
    },
    {
      "cell_type": "markdown",
      "source": [
        "By above information, we can say that other that **tenure**, **MonthlyCharges** and TotalCharges column all other lies between 0 to 1. Hence we will scale this 3 to 0 to 1"
      ],
      "metadata": {
        "id": "NVIegBc744U5"
      }
    },
    {
      "cell_type": "code",
      "source": [
        "cols_to_scale = ['tenure','MonthlyCharges','TotalCharges']\n",
        "\n",
        "# scaling using minmax scalar\n",
        "from sklearn.preprocessing import MinMaxScaler\n",
        "scaler = MinMaxScaler()\n",
        "df2[cols_to_scale] = scaler.fit_transform(df2[cols_to_scale])"
      ],
      "metadata": {
        "id": "B0kqKmWO4waC"
      },
      "execution_count": 25,
      "outputs": []
    },
    {
      "cell_type": "code",
      "source": [
        "for col in df2:\n",
        "    print(f'{col}: {df2[col].unique()}')"
      ],
      "metadata": {
        "colab": {
          "base_uri": "https://localhost:8080/"
        },
        "id": "DZswG-S15Y1y",
        "outputId": "72175e5e-ae6e-499e-c84a-d94b17b30a46"
      },
      "execution_count": 26,
      "outputs": [
        {
          "output_type": "stream",
          "name": "stdout",
          "text": [
            "gender: [1 0]\n",
            "SeniorCitizen: [0 1]\n",
            "Partner: [1 0]\n",
            "Dependents: [0 1]\n",
            "tenure: [0.         0.46478873 0.01408451 0.61971831 0.09859155 0.29577465\n",
            " 0.12676056 0.38028169 0.85915493 0.16901408 0.21126761 0.8028169\n",
            " 0.67605634 0.33802817 0.95774648 0.71830986 0.98591549 0.28169014\n",
            " 0.15492958 0.4084507  0.64788732 1.         0.22535211 0.36619718\n",
            " 0.05633803 0.63380282 0.14084507 0.97183099 0.87323944 0.5915493\n",
            " 0.1971831  0.83098592 0.23943662 0.91549296 0.11267606 0.02816901\n",
            " 0.42253521 0.69014085 0.88732394 0.77464789 0.08450704 0.57746479\n",
            " 0.47887324 0.66197183 0.3943662  0.90140845 0.52112676 0.94366197\n",
            " 0.43661972 0.76056338 0.50704225 0.49295775 0.56338028 0.07042254\n",
            " 0.04225352 0.45070423 0.92957746 0.30985915 0.78873239 0.84507042\n",
            " 0.18309859 0.26760563 0.73239437 0.54929577 0.81690141 0.32394366\n",
            " 0.6056338  0.25352113 0.74647887 0.70422535 0.35211268 0.53521127]\n",
            "PhoneService: [0 1]\n",
            "MultipleLines: [0 1]\n",
            "OnlineSecurity: [0 1]\n",
            "OnlineBackup: [1 0]\n",
            "DeviceProtection: [0 1]\n",
            "TechSupport: [0 1]\n",
            "StreamingTV: [0 1]\n",
            "StreamingMovies: [0 1]\n",
            "PaperlessBilling: [1 0]\n",
            "MonthlyCharges: [0.11542289 0.38507463 0.35422886 ... 0.44626866 0.25820896 0.60149254]\n",
            "TotalCharges: [0.0012751  0.21586661 0.01031041 ... 0.03780868 0.03321025 0.78764136]\n",
            "Churn: [0 1]\n",
            "InternetService_DSL: [1 0]\n",
            "InternetService_Fiber optic: [0 1]\n",
            "InternetService_No: [0 1]\n",
            "Contract_Month-to-month: [1 0]\n",
            "Contract_One year: [0 1]\n",
            "Contract_Two year: [0 1]\n",
            "PaymentMethod_Bank transfer (automatic): [0 1]\n",
            "PaymentMethod_Credit card (automatic): [0 1]\n",
            "PaymentMethod_Electronic check: [1 0]\n",
            "PaymentMethod_Mailed check: [0 1]\n"
          ]
        }
      ]
    },
    {
      "cell_type": "markdown",
      "source": [
        "### Train test split"
      ],
      "metadata": {
        "id": "jnOWieNG5gTd"
      }
    },
    {
      "cell_type": "code",
      "source": [
        "X = df2.drop('Churn',axis='columns')\n",
        "y = df2['Churn']\n",
        "\n",
        "from sklearn.model_selection import train_test_split\n",
        "X_train, X_test, y_train, y_test = train_test_split(X,y,test_size=0.2,random_state=10)"
      ],
      "metadata": {
        "id": "rG_yhOCy5d05"
      },
      "execution_count": 27,
      "outputs": []
    },
    {
      "cell_type": "markdown",
      "source": [
        "### Building ANN model using Tensorflow/Keras"
      ],
      "metadata": {
        "id": "qiNrty8I5ven"
      }
    },
    {
      "cell_type": "code",
      "source": [
        "# importing libraries\n",
        "import tensorflow as tf\n",
        "from tensorflow import keras"
      ],
      "metadata": {
        "id": "GckoEtjM5n8t"
      },
      "execution_count": 28,
      "outputs": []
    },
    {
      "cell_type": "code",
      "source": [
        "# initialize sequencial model\n",
        "ann = keras.Sequential()"
      ],
      "metadata": {
        "id": "S2ONIEj96cPN"
      },
      "execution_count": 29,
      "outputs": []
    },
    {
      "cell_type": "code",
      "source": [
        "# add input layer and first hidden layer\n",
        "ann.add(keras.layers.Dense(26, input_shape=(26,), activation='relu'))\n",
        "#add second hidden layer\n",
        "ann.add(keras.layers.Dense(15, activation='relu'))\n",
        "#add output layer\n",
        "ann.add(keras.layers.Dense(1, activation='sigmoid'))"
      ],
      "metadata": {
        "id": "sHb4iDFy6ibe"
      },
      "execution_count": 30,
      "outputs": []
    },
    {
      "cell_type": "code",
      "source": [
        "ann.compile(optimizer='adam',\n",
        "              loss='binary_crossentropy',\n",
        "              metrics=['accuracy'])"
      ],
      "metadata": {
        "id": "hmKSpI137NW5"
      },
      "execution_count": 31,
      "outputs": []
    },
    {
      "cell_type": "code",
      "source": [
        "# visualize model\n",
        "from tensorflow.keras.utils import plot_model\n",
        "plot_model(ann,\n",
        "           to_file=\"model.png\",\n",
        "           show_shapes=True,\n",
        "           show_layer_names=True,\n",
        "          )"
      ],
      "metadata": {
        "colab": {
          "base_uri": "https://localhost:8080/",
          "height": 422
        },
        "id": "_W1jQ8-78GxJ",
        "outputId": "46109a08-81cc-4f0f-e309-4e2817db5652"
      },
      "execution_count": 32,
      "outputs": [
        {
          "output_type": "execute_result",
          "data": {
            "text/plain": [
              "<IPython.core.display.Image object>"
            ],
            "image/png": "[encoded data removed]"
          },
          "metadata": {},
          "execution_count": 32
        }
      ]
    },
    {
      "cell_type": "code",
      "source": [
        "# early stopping\n",
        "# earlystopping= tf.keras.callbacks.EarlyStopping(\n",
        "#     monitor=\"val_loss\",\n",
        "#     min_delta=0,\n",
        "#     patience=5,\n",
        "#     verbose=0,\n",
        "#     mode=\"auto\",\n",
        "#     baseline=None,\n",
        "#     restore_best_weights=False,\n",
        "# )"
      ],
      "metadata": {
        "id": "Aj8QskHG-dM5"
      },
      "execution_count": 33,
      "outputs": []
    },
    {
      "cell_type": "code",
      "source": [
        "# training model\n",
        "history = ann.fit(X_train, y_train, epochs = 100, validation_data=(X_test, y_test))"
      ],
      "metadata": {
        "colab": {
          "base_uri": "https://localhost:8080/"
        },
        "id": "5Xe9CIxf8PA5",
        "outputId": "65d8a26e-afb4-4668-ed14-763d16effb4b"
      },
      "execution_count": 34,
      "outputs": [
        {
          "output_type": "stream",
          "name": "stdout",
          "text": [
            "Epoch 1/100\n",
            "176/176 [==============================] - 2s 4ms/step - loss: 0.4986 - accuracy: 0.7511 - val_loss: 0.4194 - val_accuracy: 0.8010\n",
            "Epoch 2/100\n",
            "176/176 [==============================] - 1s 3ms/step - loss: 0.4353 - accuracy: 0.7879 - val_loss: 0.4093 - val_accuracy: 0.8095\n",
            "Epoch 3/100\n",
            "176/176 [==============================] - 1s 3ms/step - loss: 0.4276 - accuracy: 0.7986 - val_loss: 0.4069 - val_accuracy: 0.8081\n",
            "Epoch 4/100\n",
            "176/176 [==============================] - 1s 3ms/step - loss: 0.4230 - accuracy: 0.7995 - val_loss: 0.4063 - val_accuracy: 0.8138\n",
            "Epoch 5/100\n",
            "176/176 [==============================] - 1s 4ms/step - loss: 0.4209 - accuracy: 0.8011 - val_loss: 0.4044 - val_accuracy: 0.8131\n",
            "Epoch 6/100\n",
            "176/176 [==============================] - 1s 4ms/step - loss: 0.4196 - accuracy: 0.8000 - val_loss: 0.4036 - val_accuracy: 0.8095\n",
            "Epoch 7/100\n",
            "176/176 [==============================] - 1s 3ms/step - loss: 0.4175 - accuracy: 0.8046 - val_loss: 0.4122 - val_accuracy: 0.7960\n",
            "Epoch 8/100\n",
            "176/176 [==============================] - 1s 4ms/step - loss: 0.4169 - accuracy: 0.8021 - val_loss: 0.4034 - val_accuracy: 0.8067\n",
            "Epoch 9/100\n",
            "176/176 [==============================] - 1s 3ms/step - loss: 0.4153 - accuracy: 0.8052 - val_loss: 0.4053 - val_accuracy: 0.8145\n",
            "Epoch 10/100\n",
            "176/176 [==============================] - 1s 4ms/step - loss: 0.4136 - accuracy: 0.8055 - val_loss: 0.4032 - val_accuracy: 0.8131\n",
            "Epoch 11/100\n",
            "176/176 [==============================] - 1s 3ms/step - loss: 0.4122 - accuracy: 0.8087 - val_loss: 0.4015 - val_accuracy: 0.8138\n",
            "Epoch 12/100\n",
            "176/176 [==============================] - 1s 3ms/step - loss: 0.4107 - accuracy: 0.8050 - val_loss: 0.4036 - val_accuracy: 0.8109\n",
            "Epoch 13/100\n",
            "176/176 [==============================] - 1s 3ms/step - loss: 0.4107 - accuracy: 0.8080 - val_loss: 0.4031 - val_accuracy: 0.8109\n",
            "Epoch 14/100\n",
            "176/176 [==============================] - 1s 4ms/step - loss: 0.4096 - accuracy: 0.8069 - val_loss: 0.4068 - val_accuracy: 0.8017\n",
            "Epoch 15/100\n",
            "176/176 [==============================] - 1s 3ms/step - loss: 0.4082 - accuracy: 0.8064 - val_loss: 0.4055 - val_accuracy: 0.8081\n",
            "Epoch 16/100\n",
            "176/176 [==============================] - 1s 3ms/step - loss: 0.4082 - accuracy: 0.8071 - val_loss: 0.4042 - val_accuracy: 0.8060\n",
            "Epoch 17/100\n",
            "176/176 [==============================] - 1s 4ms/step - loss: 0.4069 - accuracy: 0.8062 - val_loss: 0.4057 - val_accuracy: 0.7996\n",
            "Epoch 18/100\n",
            "176/176 [==============================] - 1s 3ms/step - loss: 0.4062 - accuracy: 0.8078 - val_loss: 0.4035 - val_accuracy: 0.8095\n",
            "Epoch 19/100\n",
            "176/176 [==============================] - 1s 3ms/step - loss: 0.4049 - accuracy: 0.8101 - val_loss: 0.4114 - val_accuracy: 0.7946\n",
            "Epoch 20/100\n",
            "176/176 [==============================] - 1s 3ms/step - loss: 0.4039 - accuracy: 0.8105 - val_loss: 0.4045 - val_accuracy: 0.8045\n",
            "Epoch 21/100\n",
            "176/176 [==============================] - 1s 3ms/step - loss: 0.4037 - accuracy: 0.8117 - val_loss: 0.4050 - val_accuracy: 0.8060\n",
            "Epoch 22/100\n",
            "176/176 [==============================] - 1s 3ms/step - loss: 0.4025 - accuracy: 0.8089 - val_loss: 0.4057 - val_accuracy: 0.8045\n",
            "Epoch 23/100\n",
            "176/176 [==============================] - 1s 3ms/step - loss: 0.4017 - accuracy: 0.8100 - val_loss: 0.4064 - val_accuracy: 0.8038\n",
            "Epoch 24/100\n",
            "176/176 [==============================] - 1s 3ms/step - loss: 0.4012 - accuracy: 0.8105 - val_loss: 0.4059 - val_accuracy: 0.7982\n",
            "Epoch 25/100\n",
            "176/176 [==============================] - 1s 4ms/step - loss: 0.3983 - accuracy: 0.8108 - val_loss: 0.4075 - val_accuracy: 0.8031\n",
            "Epoch 26/100\n",
            "176/176 [==============================] - 1s 3ms/step - loss: 0.3984 - accuracy: 0.8142 - val_loss: 0.4060 - val_accuracy: 0.8031\n",
            "Epoch 27/100\n",
            "176/176 [==============================] - 1s 3ms/step - loss: 0.3983 - accuracy: 0.8123 - val_loss: 0.4130 - val_accuracy: 0.7989\n",
            "Epoch 28/100\n",
            "176/176 [==============================] - 1s 4ms/step - loss: 0.3970 - accuracy: 0.8126 - val_loss: 0.4082 - val_accuracy: 0.7982\n",
            "Epoch 29/100\n",
            "176/176 [==============================] - 1s 3ms/step - loss: 0.3962 - accuracy: 0.8107 - val_loss: 0.4126 - val_accuracy: 0.7953\n",
            "Epoch 30/100\n",
            "176/176 [==============================] - 1s 3ms/step - loss: 0.3968 - accuracy: 0.8101 - val_loss: 0.4084 - val_accuracy: 0.8003\n",
            "Epoch 31/100\n",
            "176/176 [==============================] - 1s 3ms/step - loss: 0.3952 - accuracy: 0.8116 - val_loss: 0.4082 - val_accuracy: 0.8017\n",
            "Epoch 32/100\n",
            "176/176 [==============================] - 1s 4ms/step - loss: 0.3943 - accuracy: 0.8103 - val_loss: 0.4079 - val_accuracy: 0.8017\n",
            "Epoch 33/100\n",
            "176/176 [==============================] - 1s 4ms/step - loss: 0.3928 - accuracy: 0.8126 - val_loss: 0.4062 - val_accuracy: 0.8053\n",
            "Epoch 34/100\n",
            "176/176 [==============================] - 1s 3ms/step - loss: 0.3932 - accuracy: 0.8153 - val_loss: 0.4099 - val_accuracy: 0.8060\n",
            "Epoch 35/100\n",
            "176/176 [==============================] - 1s 3ms/step - loss: 0.3924 - accuracy: 0.8165 - val_loss: 0.4125 - val_accuracy: 0.7996\n",
            "Epoch 36/100\n",
            "176/176 [==============================] - 1s 3ms/step - loss: 0.3908 - accuracy: 0.8151 - val_loss: 0.4125 - val_accuracy: 0.7982\n",
            "Epoch 37/100\n",
            "176/176 [==============================] - 1s 4ms/step - loss: 0.3902 - accuracy: 0.8130 - val_loss: 0.4095 - val_accuracy: 0.8060\n",
            "Epoch 38/100\n",
            "176/176 [==============================] - 1s 4ms/step - loss: 0.3904 - accuracy: 0.8128 - val_loss: 0.4153 - val_accuracy: 0.7939\n",
            "Epoch 39/100\n",
            "176/176 [==============================] - 1s 3ms/step - loss: 0.3895 - accuracy: 0.8160 - val_loss: 0.4113 - val_accuracy: 0.8017\n",
            "Epoch 40/100\n",
            "176/176 [==============================] - 1s 4ms/step - loss: 0.3887 - accuracy: 0.8176 - val_loss: 0.4136 - val_accuracy: 0.7974\n",
            "Epoch 41/100\n",
            "176/176 [==============================] - 1s 3ms/step - loss: 0.3879 - accuracy: 0.8135 - val_loss: 0.4227 - val_accuracy: 0.7854\n",
            "Epoch 42/100\n",
            "176/176 [==============================] - 1s 4ms/step - loss: 0.3878 - accuracy: 0.8171 - val_loss: 0.4197 - val_accuracy: 0.7910\n",
            "Epoch 43/100\n",
            "176/176 [==============================] - 1s 3ms/step - loss: 0.3871 - accuracy: 0.8149 - val_loss: 0.4142 - val_accuracy: 0.7960\n",
            "Epoch 44/100\n",
            "176/176 [==============================] - 1s 3ms/step - loss: 0.3855 - accuracy: 0.8158 - val_loss: 0.4147 - val_accuracy: 0.7989\n",
            "Epoch 45/100\n",
            "176/176 [==============================] - 1s 3ms/step - loss: 0.3865 - accuracy: 0.8151 - val_loss: 0.4201 - val_accuracy: 0.7903\n",
            "Epoch 46/100\n",
            "176/176 [==============================] - 1s 3ms/step - loss: 0.3846 - accuracy: 0.8151 - val_loss: 0.4172 - val_accuracy: 0.8095\n",
            "Epoch 47/100\n",
            "176/176 [==============================] - 1s 4ms/step - loss: 0.3835 - accuracy: 0.8172 - val_loss: 0.4144 - val_accuracy: 0.7974\n",
            "Epoch 48/100\n",
            "176/176 [==============================] - 1s 3ms/step - loss: 0.3845 - accuracy: 0.8160 - val_loss: 0.4166 - val_accuracy: 0.7967\n",
            "Epoch 49/100\n",
            "176/176 [==============================] - 1s 3ms/step - loss: 0.3824 - accuracy: 0.8171 - val_loss: 0.4183 - val_accuracy: 0.7925\n",
            "Epoch 50/100\n",
            "176/176 [==============================] - 1s 3ms/step - loss: 0.3831 - accuracy: 0.8160 - val_loss: 0.4196 - val_accuracy: 0.7939\n",
            "Epoch 51/100\n",
            "176/176 [==============================] - 1s 4ms/step - loss: 0.3819 - accuracy: 0.8169 - val_loss: 0.4183 - val_accuracy: 0.8024\n",
            "Epoch 52/100\n",
            "176/176 [==============================] - 1s 3ms/step - loss: 0.3809 - accuracy: 0.8222 - val_loss: 0.4195 - val_accuracy: 0.7910\n",
            "Epoch 53/100\n",
            "176/176 [==============================] - 1s 3ms/step - loss: 0.3813 - accuracy: 0.8181 - val_loss: 0.4301 - val_accuracy: 0.7825\n",
            "Epoch 54/100\n",
            "176/176 [==============================] - 1s 4ms/step - loss: 0.3805 - accuracy: 0.8204 - val_loss: 0.4189 - val_accuracy: 0.7953\n",
            "Epoch 55/100\n",
            "176/176 [==============================] - 1s 3ms/step - loss: 0.3804 - accuracy: 0.8178 - val_loss: 0.4248 - val_accuracy: 0.7939\n",
            "Epoch 56/100\n",
            "176/176 [==============================] - 1s 3ms/step - loss: 0.3801 - accuracy: 0.8187 - val_loss: 0.4223 - val_accuracy: 0.7896\n",
            "Epoch 57/100\n",
            "176/176 [==============================] - 1s 3ms/step - loss: 0.3797 - accuracy: 0.8187 - val_loss: 0.4198 - val_accuracy: 0.7982\n",
            "Epoch 58/100\n",
            "176/176 [==============================] - 1s 3ms/step - loss: 0.3784 - accuracy: 0.8197 - val_loss: 0.4216 - val_accuracy: 0.7896\n",
            "Epoch 59/100\n",
            "176/176 [==============================] - 1s 4ms/step - loss: 0.3783 - accuracy: 0.8203 - val_loss: 0.4243 - val_accuracy: 0.7953\n",
            "Epoch 60/100\n",
            "176/176 [==============================] - 1s 3ms/step - loss: 0.3776 - accuracy: 0.8222 - val_loss: 0.4222 - val_accuracy: 0.7918\n",
            "Epoch 61/100\n",
            "176/176 [==============================] - 1s 4ms/step - loss: 0.3772 - accuracy: 0.8219 - val_loss: 0.4227 - val_accuracy: 0.7903\n",
            "Epoch 62/100\n",
            "176/176 [==============================] - 1s 4ms/step - loss: 0.3766 - accuracy: 0.8206 - val_loss: 0.4282 - val_accuracy: 0.7868\n",
            "Epoch 63/100\n",
            "176/176 [==============================] - 1s 3ms/step - loss: 0.3763 - accuracy: 0.8219 - val_loss: 0.4218 - val_accuracy: 0.7903\n",
            "Epoch 64/100\n",
            "176/176 [==============================] - 1s 3ms/step - loss: 0.3752 - accuracy: 0.8213 - val_loss: 0.4267 - val_accuracy: 0.7861\n",
            "Epoch 65/100\n",
            "176/176 [==============================] - 1s 4ms/step - loss: 0.3766 - accuracy: 0.8228 - val_loss: 0.4287 - val_accuracy: 0.7889\n",
            "Epoch 66/100\n",
            "176/176 [==============================] - 1s 3ms/step - loss: 0.3750 - accuracy: 0.8228 - val_loss: 0.4318 - val_accuracy: 0.7861\n",
            "Epoch 67/100\n",
            "176/176 [==============================] - 1s 3ms/step - loss: 0.3739 - accuracy: 0.8238 - val_loss: 0.4223 - val_accuracy: 0.8074\n",
            "Epoch 68/100\n",
            "176/176 [==============================] - 1s 3ms/step - loss: 0.3738 - accuracy: 0.8238 - val_loss: 0.4263 - val_accuracy: 0.7932\n",
            "Epoch 69/100\n",
            "176/176 [==============================] - 1s 3ms/step - loss: 0.3740 - accuracy: 0.8236 - val_loss: 0.4262 - val_accuracy: 0.7889\n",
            "Epoch 70/100\n",
            "176/176 [==============================] - 1s 4ms/step - loss: 0.3725 - accuracy: 0.8254 - val_loss: 0.4256 - val_accuracy: 0.7982\n",
            "Epoch 71/100\n",
            "176/176 [==============================] - 1s 3ms/step - loss: 0.3735 - accuracy: 0.8252 - val_loss: 0.4243 - val_accuracy: 0.7953\n",
            "Epoch 72/100\n",
            "176/176 [==============================] - 1s 3ms/step - loss: 0.3728 - accuracy: 0.8222 - val_loss: 0.4283 - val_accuracy: 0.7889\n",
            "Epoch 73/100\n",
            "176/176 [==============================] - 1s 3ms/step - loss: 0.3715 - accuracy: 0.8279 - val_loss: 0.4296 - val_accuracy: 0.7903\n",
            "Epoch 74/100\n",
            "176/176 [==============================] - 1s 3ms/step - loss: 0.3713 - accuracy: 0.8268 - val_loss: 0.4259 - val_accuracy: 0.7939\n",
            "Epoch 75/100\n",
            "176/176 [==============================] - 1s 4ms/step - loss: 0.3699 - accuracy: 0.8252 - val_loss: 0.4239 - val_accuracy: 0.7974\n",
            "Epoch 76/100\n",
            "176/176 [==============================] - 1s 4ms/step - loss: 0.3713 - accuracy: 0.8265 - val_loss: 0.4275 - val_accuracy: 0.7868\n",
            "Epoch 77/100\n",
            "176/176 [==============================] - 1s 4ms/step - loss: 0.3687 - accuracy: 0.8283 - val_loss: 0.4280 - val_accuracy: 0.7925\n",
            "Epoch 78/100\n",
            "176/176 [==============================] - 1s 4ms/step - loss: 0.3703 - accuracy: 0.8261 - val_loss: 0.4266 - val_accuracy: 0.7989\n",
            "Epoch 79/100\n",
            "176/176 [==============================] - 1s 3ms/step - loss: 0.3696 - accuracy: 0.8263 - val_loss: 0.4278 - val_accuracy: 0.7932\n",
            "Epoch 80/100\n",
            "176/176 [==============================] - 1s 3ms/step - loss: 0.3696 - accuracy: 0.8281 - val_loss: 0.4258 - val_accuracy: 0.7939\n",
            "Epoch 81/100\n",
            "176/176 [==============================] - 1s 3ms/step - loss: 0.3681 - accuracy: 0.8272 - val_loss: 0.4339 - val_accuracy: 0.7804\n",
            "Epoch 82/100\n",
            "176/176 [==============================] - 1s 3ms/step - loss: 0.3674 - accuracy: 0.8247 - val_loss: 0.4338 - val_accuracy: 0.7910\n",
            "Epoch 83/100\n",
            "176/176 [==============================] - 1s 4ms/step - loss: 0.3667 - accuracy: 0.8272 - val_loss: 0.4300 - val_accuracy: 0.7903\n",
            "Epoch 84/100\n",
            "176/176 [==============================] - 1s 4ms/step - loss: 0.3666 - accuracy: 0.8295 - val_loss: 0.4339 - val_accuracy: 0.7896\n",
            "Epoch 85/100\n",
            "176/176 [==============================] - 1s 4ms/step - loss: 0.3658 - accuracy: 0.8279 - val_loss: 0.4343 - val_accuracy: 0.7925\n",
            "Epoch 86/100\n",
            "176/176 [==============================] - 1s 3ms/step - loss: 0.3660 - accuracy: 0.8293 - val_loss: 0.4314 - val_accuracy: 0.7939\n",
            "Epoch 87/100\n",
            "176/176 [==============================] - 1s 4ms/step - loss: 0.3647 - accuracy: 0.8292 - val_loss: 0.4465 - val_accuracy: 0.7761\n",
            "Epoch 88/100\n",
            "176/176 [==============================] - 1s 4ms/step - loss: 0.3648 - accuracy: 0.8286 - val_loss: 0.4425 - val_accuracy: 0.7797\n",
            "Epoch 89/100\n",
            "176/176 [==============================] - 1s 4ms/step - loss: 0.3641 - accuracy: 0.8286 - val_loss: 0.4346 - val_accuracy: 0.7910\n",
            "Epoch 90/100\n",
            "176/176 [==============================] - 1s 3ms/step - loss: 0.3637 - accuracy: 0.8308 - val_loss: 0.4310 - val_accuracy: 0.8017\n",
            "Epoch 91/100\n",
            "176/176 [==============================] - 1s 3ms/step - loss: 0.3634 - accuracy: 0.8318 - val_loss: 0.4408 - val_accuracy: 0.7797\n",
            "Epoch 92/100\n",
            "176/176 [==============================] - 1s 4ms/step - loss: 0.3641 - accuracy: 0.8276 - val_loss: 0.4324 - val_accuracy: 0.7918\n",
            "Epoch 93/100\n",
            "176/176 [==============================] - 1s 3ms/step - loss: 0.3613 - accuracy: 0.8318 - val_loss: 0.4352 - val_accuracy: 0.7967\n",
            "Epoch 94/100\n",
            "176/176 [==============================] - 1s 3ms/step - loss: 0.3612 - accuracy: 0.8313 - val_loss: 0.4410 - val_accuracy: 0.7832\n",
            "Epoch 95/100\n",
            "176/176 [==============================] - 1s 4ms/step - loss: 0.3611 - accuracy: 0.8320 - val_loss: 0.4354 - val_accuracy: 0.7960\n",
            "Epoch 96/100\n",
            "176/176 [==============================] - 1s 3ms/step - loss: 0.3616 - accuracy: 0.8304 - val_loss: 0.4349 - val_accuracy: 0.7953\n",
            "Epoch 97/100\n",
            "176/176 [==============================] - 1s 3ms/step - loss: 0.3608 - accuracy: 0.8324 - val_loss: 0.4389 - val_accuracy: 0.7861\n",
            "Epoch 98/100\n",
            "176/176 [==============================] - 1s 3ms/step - loss: 0.3588 - accuracy: 0.8336 - val_loss: 0.4370 - val_accuracy: 0.7939\n",
            "Epoch 99/100\n",
            "176/176 [==============================] - 1s 3ms/step - loss: 0.3596 - accuracy: 0.8315 - val_loss: 0.4409 - val_accuracy: 0.7825\n",
            "Epoch 100/100\n",
            "176/176 [==============================] - 1s 3ms/step - loss: 0.3597 - accuracy: 0.8327 - val_loss: 0.4398 - val_accuracy: 0.7903\n"
          ]
        }
      ]
    },
    {
      "cell_type": "code",
      "source": [
        "# prediction\n",
        "yp = ann.predict(X_test)\n",
        "yp[:5]"
      ],
      "metadata": {
        "colab": {
          "base_uri": "https://localhost:8080/"
        },
        "id": "IY2tGsLR8Yyr",
        "outputId": "cf642c2f-7873-4152-db81-952f4ed06f85"
      },
      "execution_count": 35,
      "outputs": [
        {
          "output_type": "execute_result",
          "data": {
            "text/plain": [
              "array([[0.00574612],\n",
              "       [0.0071839 ],\n",
              "       [0.18416546],\n",
              "       [0.17943989],\n",
              "       [0.02953361]], dtype=float32)"
            ]
          },
          "metadata": {},
          "execution_count": 35
        }
      ]
    },
    {
      "cell_type": "code",
      "source": [
        "# lets convert it into 0 and 1\n",
        "y_pred = []\n",
        "for element in yp:\n",
        "    if element > 0.5:\n",
        "        y_pred.append(1)\n",
        "    else:\n",
        "        y_pred.append(0)"
      ],
      "metadata": {
        "id": "r_m4xBG88tNw"
      },
      "execution_count": 36,
      "outputs": []
    },
    {
      "cell_type": "markdown",
      "source": [
        "### Mertics"
      ],
      "metadata": {
        "id": "vmLXRL4H9BJ1"
      }
    },
    {
      "cell_type": "code",
      "source": [
        "from sklearn.metrics import accuracy_score, classification_report\n",
        "\n",
        "print(classification_report(y_test,y_pred))"
      ],
      "metadata": {
        "colab": {
          "base_uri": "https://localhost:8080/"
        },
        "id": "Ccf_DVit88kU",
        "outputId": "28618bf0-0f3d-4dbc-a0d8-d736b49465f5"
      },
      "execution_count": 37,
      "outputs": [
        {
          "output_type": "stream",
          "name": "stdout",
          "text": [
            "              precision    recall  f1-score   support\n",
            "\n",
            "           0       0.86      0.86      0.86      1046\n",
            "           1       0.59      0.59      0.59       361\n",
            "\n",
            "    accuracy                           0.79      1407\n",
            "   macro avg       0.73      0.72      0.72      1407\n",
            "weighted avg       0.79      0.79      0.79      1407\n",
            "\n"
          ]
        }
      ]
    },
    {
      "cell_type": "code",
      "source": [
        "import seaborn as sns\n",
        "sns.set_theme()\n",
        "cm = tf.math.confusion_matrix(labels=y_test,predictions=y_pred)\n",
        "\n",
        "plt.figure(figsize = (10,7))\n",
        "sns.heatmap(cm, annot=True, fmt='d')\n",
        "plt.xlabel('Predicted')\n",
        "plt.ylabel('Truth')"
      ],
      "metadata": {
        "colab": {
          "base_uri": "https://localhost:8080/",
          "height": 466
        },
        "id": "mwNUaMVs9D5p",
        "outputId": "f2f10a45-31eb-47ce-c537-70ee99fd2701"
      },
      "execution_count": 39,
      "outputs": [
        {
          "output_type": "execute_result",
          "data": {
            "text/plain": [
              "Text(66.5, 0.5, 'Truth')"
            ]
          },
          "metadata": {},
          "execution_count": 39
        },
        {
          "output_type": "display_data",
          "data": {
            "text/plain": [
              "<Figure size 720x504 with 2 Axes>"
            ],
            "image/png": "[encoded data removed]"
          },
          "metadata": {}
        }
      ]
    },
    {
      "cell_type": "code",
      "source": [
        "print('Accuracy: ', round(accuracy_score(y_test, y_pred)*100,2))"
      ],
      "metadata": {
        "colab": {
          "base_uri": "https://localhost:8080/"
        },
        "id": "WkpHBKVg9JU5",
        "outputId": "1efc8f0d-e6f4-4552-8c98-d976399f06a5"
      },
      "execution_count": 40,
      "outputs": [
        {
          "output_type": "stream",
          "name": "stdout",
          "text": [
            "Accuracy:  79.03\n"
          ]
        }
      ]
    },
    {
      "cell_type": "code",
      "source": [
        "plt.figure(figsize=(10,7))\n",
        "plt.plot(history.history['accuracy'])\n",
        "plt.plot(history.history['val_accuracy'])\n",
        "plt.title('model accuracy')\n",
        "plt.ylabel('accuracy')\n",
        "plt.xlabel('epoch')\n",
        "plt.legend(['train', 'test'], loc='upper left')\n",
        "plt.show()"
      ],
      "metadata": {
        "colab": {
          "base_uri": "https://localhost:8080/",
          "height": 464
        },
        "id": "uwydayDS9my1",
        "outputId": "89e1a15b-28ae-4a1d-dc8a-ca2fef94c944"
      },
      "execution_count": 41,
      "outputs": [
        {
          "output_type": "display_data",
          "data": {
            "text/plain": [
              "<Figure size 720x504 with 1 Axes>"
            ],
            "image/png": "[encoded data removed]"
          },
          "metadata": {}
        }
      ]
    }
  ]
}